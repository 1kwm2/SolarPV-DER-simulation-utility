{
 "cells": [
  {
   "cell_type": "code",
   "execution_count": null,
   "metadata": {},
   "outputs": [],
   "source": [
    "#Import PV-DER modules\n",
    "from pvder.DER_components_single_phase import SolarPV_DER_SinglePhase\n",
    "from pvder.DER_components_three_phase  import SolarPV_DER_ThreePhase\n",
    "#from pvder.DER_components_three_phase_balanced  import SolarPV_DER_ThreePhaseBalanced\n",
    "from pvder.grid_components import Grid\n",
    "from pvder.dynamic_simulation import DynamicSimulation\n",
    "from pvder.simulation_events import SimulationEvents\n",
    "from pvder.simulation_utilities import SimulationUtilities,SimulationResults\n",
    "from pvder import utility_functions\n",
    "\n",
    "#Import Python modules\n",
    "import logging\n",
    "import numpy as np\n",
    "import scipy as sci\n",
    "import math\n",
    "import cmath\n",
    "import pandas\n",
    "\n",
    "\n",
    "import matplotlib as matplotlib\n",
    "import matplotlib.pyplot as plt\n",
    "print('Scipy version:',sci.__version__)\n",
    "print('Numpy version:',np.__version__)\n",
    "print('Matplotlib version:',matplotlib.__version__)\n",
    "#To show interactive plot in the notebook cell\n",
    "%matplotlib inline    "
   ]
  },
  {
   "cell_type": "code",
   "execution_count": null,
   "metadata": {},
   "outputs": [],
   "source": [
    "voltages = pandas.read_csv('results_powerfactory.csv')\n",
    "voltages.head()\n",
    "Va_t = np.array(voltages[['Vmag','Vangle']])\n",
    "fgrid_t = np.array(voltages[['fgrid']])*60.0\n",
    "print(Va_t.shape,fgrid_t.shape)\n",
    "Va = cmath.rect(Va_t[0][0]*Grid.Vbase/2, math.radians(Va_t[0][1]))\n",
    "Vb = utility_functions.Ub_calc(Va)\n",
    "Vc = utility_functions.Uc_calc(Va)\n",
    "\n",
    "Vrms = abs(Va)/math.sqrt(2)\n",
    "ph= Va_t[0][1]\n",
    "print('Vrms:{:.2f},Angle:{:.2f},fgrid:{:.2f}'.format(Vrms,ph,fgrid_t[0,0]))\n",
    "print('Va:{:.2f},Vb:{:.2f},Vc:{:.2f}'.format(Va,Vb,Vc))\n",
    "print('V0:',Va+Vb+Vc)\n",
    "\n",
    "Vat = []\n",
    "Vbt = []\n",
    "Vct = []\n",
    "fgridt = []\n",
    "for i in range(len(Va_t)):\n",
    "    Vat.append(cmath.rect(Va_t[i][0]*Grid.Vbase/2, math.radians(Va_t[i][1])))\n",
    "    Vbt.append(utility_functions.Ub_calc(Vat[i]))\n",
    "    Vct.append(utility_functions.Uc_calc(Vat[i]))\n",
    "    fgridt.append(fgrid_t[i,0])    "
   ]
  },
  {
   "cell_type": "code",
   "execution_count": null,
   "metadata": {},
   "outputs": [],
   "source": [
    "logging.debug('test')\n",
    "SINGLE_PHASE = False\n",
    "STEADY_STATE = True\n",
    "UNBALANCED = False\n",
    "events1 = SimulationEvents(verbosity = 'DEBUG')\n",
    "if SINGLE_PHASE:\n",
    "    PV_DER1 = SolarPV_DER_SinglePhase(events=events1,Sinverter_rated = 10.0e3,Vrms_rated = Vrms, #175\n",
    "                                     gridVoltagePhaseA = Va,\n",
    "                                     gridVoltagePhaseB = Vb,\n",
    "                                     gridVoltagePhaseC = Vc,\n",
    "                                     gridFrequency=2*math.pi*60.0,\n",
    "                                     standAlone = False,STEADY_STATE_INITIALIZATION=STEADY_STATE,allow_unbalanced_m=UNBALANCED,\n",
    "                                     verbosity = 'DEBUG')\n",
    "    \n",
    "else:\n",
    "    PV_DER1 = SolarPV_DER_ThreePhase(events=events1,Sinverter_rated = 50.0e3,Vrms_rated = Vrms, #175\n",
    "                                     gridVoltagePhaseA = Va,\n",
    "                                     gridVoltagePhaseB = Vb,\n",
    "                                     gridVoltagePhaseC = Vc,\n",
    "                                     gridFrequency=2*math.pi*60.0,\n",
    "                                     standAlone = False,STEADY_STATE_INITIALIZATION=STEADY_STATE,allow_unbalanced_m=UNBALANCED,\n",
    "                                     verbosity = 'DEBUG')\n",
    "      \n",
    "        \n",
    "    \n",
    "sim1 = DynamicSimulation(PV_model=PV_DER1,events = events1,verbosity = 'INFO',solver_type='odeint',LOOP_MODE=True) #'odeint','ode-vode-bdf'\n",
    "results1 = SimulationResults(simulation = sim1,PER_UNIT=True,verbosity = 'INFO')"
   ]
  },
  {
   "cell_type": "code",
   "execution_count": null,
   "metadata": {},
   "outputs": [],
   "source": [
    "%%time\n",
    "PV_DER1.MPPT_ENABLE=False\n",
    "PV_DER1.RAMP_ENABLE = False\n",
    "PV_DER1.VOLT_VAR_ENABLE = False\n",
    "PV_DER1.LVRT_ENABLE = False\n",
    "PV_DER1.HVRT_ENABLE = False\n",
    "PV_DER1.LFRT_ENABLE = False\n",
    "PV_DER1.LVRT_MOMENTARY_CESSATION = True\n",
    "PV_DER1.DO_EXTRA_CALCULATIONS = False\n",
    "PV_DER1.use_frequency_estimate=False\n",
    "sim1.jacFlag = True\n",
    "sim1.DEBUG_SIMULATION = False\n",
    "sim1.DEBUG_VOLTAGES = True\n",
    "sim1.DEBUG_CURRENTS = True\n",
    "sim1.DEBUG_POWER = False\n",
    "sim1.DEBUG_CONTROLLERS  = True\n",
    "sim1.DEBUG_PLL = False\n",
    "sim1.PER_UNIT = True\n",
    "sim1.DEBUG_SOLVER  = False\n",
    "sim1.tStop = 10.0\n",
    "sim1.tInc = 1/120.# 0.001 #0.0125\n",
    "\n",
    "sim1.playback_3phgrid(Vat,Vbt,Vct,fgridt)#fgridt,60.0\n",
    "PV_DER1.validate_model()\n",
    "\n",
    "PV_DER1.show_PV_DER_states('voltage')\n",
    "PV_DER1.show_PV_DER_states('current')\n",
    "PV_DER1.show_PV_DER_states('power')\n",
    "PV_DER1.show_PV_DER_states('duty cycle')"
   ]
  },
  {
   "cell_type": "code",
   "execution_count": null,
   "metadata": {},
   "outputs": [],
   "source": [
    "utility_functions.numpy_to_csv('P_PCC',sim1.S_PCC_t.real,'P_PCC')"
   ]
  },
  {
   "cell_type": "code",
   "execution_count": null,
   "metadata": {},
   "outputs": [],
   "source": [
    "results1.PER_UNIT = False\n",
    "results1.PLOT_TITLE = True\n",
    "results1.font_size = 18\n",
    "results1.plot_DER_simulation(plot_type='active_power_Ppv_Pac_PCC')#"
   ]
  },
  {
   "cell_type": "code",
   "execution_count": null,
   "metadata": {},
   "outputs": [],
   "source": [
    "results1.plot_DER_simulation(plot_type='reactive_power')#_Q_PCC"
   ]
  },
  {
   "cell_type": "code",
   "execution_count": null,
   "metadata": {},
   "outputs": [],
   "source": [
    "results1.plot_DER_simulation(plot_type='voltage_Vpcclv_all_phases') #voltage_Vpcclv"
   ]
  },
  {
   "cell_type": "code",
   "execution_count": null,
   "metadata": {},
   "outputs": [],
   "source": [
    "results1.plot_DER_simulation(plot_type='voltage_Vdc')"
   ]
  },
  {
   "cell_type": "code",
   "execution_count": null,
   "metadata": {},
   "outputs": [],
   "source": [
    "results1.plot_DER_simulation(plot_type='current')"
   ]
  },
  {
   "cell_type": "code",
   "execution_count": null,
   "metadata": {},
   "outputs": [],
   "source": [
    "results1.plot_DER_simulation(plot_type='duty_cycle')"
   ]
  },
  {
   "cell_type": "code",
   "execution_count": null,
   "metadata": {},
   "outputs": [],
   "source": [
    "results1.plot_DER_simulation(plot_type='frequency')"
   ]
  },
  {
   "cell_type": "code",
   "execution_count": null,
   "metadata": {},
   "outputs": [],
   "source": [
    "results1.plot_DER_simulation(plot_type='pll')"
   ]
  }
 ],
 "metadata": {
  "kernelspec": {
   "display_name": "Python 3",
   "language": "python",
   "name": "python3"
  },
  "language_info": {
   "codemirror_mode": {
    "name": "ipython",
    "version": 3
   },
   "file_extension": ".py",
   "mimetype": "text/x-python",
   "name": "python",
   "nbconvert_exporter": "python",
   "pygments_lexer": "ipython3",
   "version": "3.7.3"
  }
 },
 "nbformat": 4,
 "nbformat_minor": 2
}
