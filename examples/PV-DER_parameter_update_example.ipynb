{
 "cells": [
  {
   "cell_type": "markdown",
   "metadata": {
    "colab_type": "text",
    "id": "view-in-github"
   },
   "source": [
    "<a href=\"https://colab.research.google.com/github/sibyjackgrove/SolarPV-DER-simulation-utility/blob/master/examples/PV-DER_usage_example.ipynb\" target=\"_parent\"><img src=\"https://colab.research.google.com/assets/colab-badge.svg\" alt=\"Open In Colab\"/></a>"
   ]
  },
  {
   "cell_type": "markdown",
   "metadata": {},
   "source": [
    "## Accessing and updating model parameters"
   ]
  },
  {
   "cell_type": "markdown",
   "metadata": {
    "colab_type": "text",
    "id": "J4tKN3DvS5U8"
   },
   "source": [
    "### Import classes\n",
    "Import classes neccessary to define instances of the PV-DER model, events, simulation, and results."
   ]
  },
  {
   "cell_type": "code",
   "execution_count": 1,
   "metadata": {
    "colab": {},
    "colab_type": "code",
    "id": "JwLCIIkdS5U_"
   },
   "outputs": [],
   "source": [
    "#Import PV-DER modules\n",
    "from pvder.DER_components_single_phase import SolarPV_DER_SinglePhase\n",
    "from pvder.DER_components_three_phase  import SolarPV_DER_ThreePhase\n",
    "from pvder.grid_components import BaseValues\n",
    "from pvder.dynamic_simulation import DynamicSimulation\n",
    "from pvder.simulation_events import SimulationEvents\n",
    "from pvder.simulation_utilities import SimulationUtilities,SimulationResults\n",
    "from pvder import utility_functions\n",
    "\n",
    "import math\n",
    "import logging\n",
    "\n",
    "#To show interactive plot in the notebook cell\n",
    "%matplotlib inline    "
   ]
  },
  {
   "cell_type": "markdown",
   "metadata": {},
   "source": [
    "### Specify voltage values\n",
    "Specify voltage values for non-standalone model."
   ]
  },
  {
   "cell_type": "code",
   "execution_count": 2,
   "metadata": {},
   "outputs": [
    {
     "name": "stdout",
     "output_type": "stream",
     "text": [
      "Va:208.75,Vrms:147.6085405726918\n"
     ]
    }
   ],
   "source": [
    "scaler = 0.835\n",
    "Va = (.50+0j)*BaseValues.Vbase*scaler\n",
    "Vb = (-.25-.43301270j)*BaseValues.Vbase*scaler\n",
    "Vc = (-.25+.43301270j)*BaseValues.Vbase*scaler\n",
    "Vrms = abs(Va)/math.sqrt(2)\n",
    "print('Va:{},Vrms:{}'.format(abs(Va),Vrms))\n",
    "logging.debug('test')"
   ]
  },
  {
   "cell_type": "markdown",
   "metadata": {
    "colab_type": "text",
    "id": "IrB7IEwGS5VD"
   },
   "source": [
    "### Create objects required to simulate either single phase or three phase PV-DER"
   ]
  },
  {
   "cell_type": "code",
   "execution_count": 3,
   "metadata": {
    "colab": {},
    "colab_type": "code",
    "id": "p4BNtHXWS5VE"
   },
   "outputs": [
    {
     "name": "stderr",
     "output_type": "stream",
     "text": [
      "INFO:SolarPV_DER_ThreePhase:PVDER-3ph_1:Instance created with parameter ID: 50; Specifications - Srated:50.0 kVA, Vrms:147.6 V ,Steady state:True,LVRT Enable:True, LVRT Instantaneous trip:False\n"
     ]
    }
   ],
   "source": [
    "events1 = SimulationEvents(verbosity = 'INFO')\n",
    "PV_DER1 = SolarPV_DER_ThreePhase(events=events1,Sinverter_rated = 50.0e3,Vrms_rated = Vrms, #175\n",
    "                                     gridVoltagePhaseA = Va,\n",
    "                                     gridVoltagePhaseB = Vb,\n",
    "                                     gridVoltagePhaseC = Vc,\n",
    "                                     gridFrequency=2*math.pi*60.0,\n",
    "                                     standAlone = False,STEADY_STATE_INITIALIZATION=True,verbosity = 'INFO')   \n",
    "sim1 = DynamicSimulation(PV_model=PV_DER1,events = events1,verbosity = 'INFO',solver_type='odeint')"
   ]
  },
  {
   "cell_type": "markdown",
   "metadata": {},
   "source": [
    "## Create and use a user defined parameter dictionary\n",
    "### 1. Show existing parameter dictionaries using show_parameter_dictionaries() and show_parameter_types().\n"
   ]
  },
  {
   "cell_type": "code",
   "execution_count": 4,
   "metadata": {},
   "outputs": [
    {
     "name": "stdout",
     "output_type": "stream",
     "text": [
      "-----Parameter dictionary: Parameter IDs-----\n",
      "module_parameters : 10,50,250\n",
      "inverter_ratings : 50,250\n",
      "circuit_parameters : 50,250\n",
      "controller_parameters : 50,250,250_1\n",
      "steadystate_values : 50,250\n",
      "-----Parameter dictionary: Parameter types-----\n",
      "module_parameters : Np,Ns,Vdcmpp0,Vdcmpp_min,Vdcmpp_max\n",
      "inverter_ratings : Srated,Varated,Vdcrated,Ioverload\n",
      "circuit_parameters : Rf_actual,Lf_actual,C_actual,Z1_actual\n",
      "controller_parameters : scale_Kp_GCC,scale_Ki_GCC,scale_Kp_DC,scale_Ki_DC,scale_Kp_Q,scale_Ki_Q,wp\n",
      "steadystate_values : maR0,maI0,iaR0,iaI0\n"
     ]
    }
   ],
   "source": [
    "PV_DER1.show_parameter_dictionaries()\n",
    "PV_DER1.show_parameter_types()"
   ]
  },
  {
   "cell_type": "markdown",
   "metadata": {},
   "source": [
    "### 2. Get parameter values using get_parameter_values()"
   ]
  },
  {
   "cell_type": "code",
   "execution_count": 5,
   "metadata": {},
   "outputs": [
    {
     "name": "stdout",
     "output_type": "stream",
     "text": [
      "{   'C_actual': 0.0003,\n",
      "    'Ioverload': 1.5,\n",
      "    'Lf_actual': 2.5e-05,\n",
      "    'Np': 11,\n",
      "    'Ns': 735,\n",
      "    'Rf_actual': 0.002,\n",
      "    'Srated': 50000.0,\n",
      "    'Varated': 245.0,\n",
      "    'Vdcmpp0': 550.0,\n",
      "    'Vdcmpp_max': 650.0,\n",
      "    'Vdcmpp_min': 520.0,\n",
      "    'Vdcrated': 550.0,\n",
      "    'Z1_actual': (0.0019+0.0561j),\n",
      "    'iaI0': 0.001,\n",
      "    'iaR0': 1.0,\n",
      "    'maI0': 0.0,\n",
      "    'maR0': 0.89,\n",
      "    'scale_Ki_DC': 0.05,\n",
      "    'scale_Ki_GCC': 0.05,\n",
      "    'scale_Ki_Q': 0.05,\n",
      "    'scale_Kp_DC': 0.05,\n",
      "    'scale_Kp_GCC': 0.05,\n",
      "    'scale_Kp_Q': 0.05,\n",
      "    'wp': 200000.0}\n"
     ]
    }
   ],
   "source": [
    "DER_parameters = PV_DER1.get_parameter_dictionary(parameter_type='all',parameter_ID='50')"
   ]
  },
  {
   "cell_type": "markdown",
   "metadata": {},
   "source": [
    "### 3. Select name of new parameter dictionary (e.g. 'my_DER') and source parameter ID (e.g. '50').\n",
    "### 4. Create and initialize new parameter dictionary using initialize_parameter_dict()."
   ]
  },
  {
   "cell_type": "code",
   "execution_count": 6,
   "metadata": {},
   "outputs": [
    {
     "name": "stderr",
     "output_type": "stream",
     "text": [
      "INFO:SolarPV_DER_ThreePhase:PVDER-3ph_1:Created and initialized new parameter dicitonary my_DER with source dictionary 50.\n"
     ]
    }
   ],
   "source": [
    "PV_DER1.initialize_parameter_dict(parameter_ID='my_DER',source_parameter_ID='50')"
   ]
  },
  {
   "cell_type": "markdown",
   "metadata": {},
   "source": [
    "### 5. Update the new parameter dictionary with desired values (e.g. {'Np':5} in 'module_parameters' and {'C_actual':5} in 'circuit_parameters') using update_parameter_dict()."
   ]
  },
  {
   "cell_type": "code",
   "execution_count": 7,
   "metadata": {},
   "outputs": [],
   "source": [
    "PV_DER1.update_parameter_dict(parameter_ID='my_DER',parameter_type='module_parameters',parameter_dict={'Np':5})\n",
    "PV_DER1.update_parameter_dict(parameter_ID='my_DER',parameter_type='circuit_parameters',parameter_dict={'C_actual':0.0005})"
   ]
  },
  {
   "cell_type": "markdown",
   "metadata": {},
   "source": [
    "### 6. Update the PV-DER model with parameters from the new parameter dictionary using modify_DER_parameters()"
   ]
  },
  {
   "cell_type": "code",
   "execution_count": 8,
   "metadata": {},
   "outputs": [
    {
     "name": "stderr",
     "output_type": "stream",
     "text": [
      "INFO:SolarPV_DER_ThreePhase:PVDER-3ph_1:PV-DER parameters updated with parameters from  parameter dictionary my_DER!\n"
     ]
    }
   ],
   "source": [
    "PV_DER1.modify_DER_parameters(parameter_ID='my_DER')"
   ]
  },
  {
   "cell_type": "markdown",
   "metadata": {},
   "source": [
    "### 7. Save and load parameter dictionaries using  save_parameter_dictionary() and load_parameter_dictionary()"
   ]
  },
  {
   "cell_type": "code",
   "execution_count": 9,
   "metadata": {},
   "outputs": [
    {
     "name": "stderr",
     "output_type": "stream",
     "text": [
      "INFO:SolarPV_DER_ThreePhase:PVDER-3ph_1:Saved all the parameter dicitonaries as a pickle file in my_DER.pkl.\n"
     ]
    }
   ],
   "source": [
    "file_name = PV_DER1.save_parameter_dictionary(parameter_ID='my_DER',save_format='pickle')"
   ]
  },
  {
   "cell_type": "code",
   "execution_count": 10,
   "metadata": {},
   "outputs": [
    {
     "name": "stdout",
     "output_type": "stream",
     "text": [
      "Read following parameter dictionary from my_DER.pkl:\n",
      "{   'C_actual': 0.0005,\n",
      "    'Ioverload': 1.5,\n",
      "    'Lf_actual': 2.5e-05,\n",
      "    'Np': 5,\n",
      "    'Ns': 735,\n",
      "    'Rf_actual': 0.002,\n",
      "    'Srated': 50000.0,\n",
      "    'Varated': 245.0,\n",
      "    'Vdcmpp0': 550.0,\n",
      "    'Vdcmpp_max': 650.0,\n",
      "    'Vdcmpp_min': 520.0,\n",
      "    'Vdcrated': 550.0,\n",
      "    'Z1_actual': (0.0019+0.0561j),\n",
      "    'iaI0': 0.001,\n",
      "    'iaR0': 1.0,\n",
      "    'maI0': 0.0,\n",
      "    'maR0': 0.89,\n",
      "    'scale_Ki_DC': 0.05,\n",
      "    'scale_Ki_GCC': 0.05,\n",
      "    'scale_Ki_Q': 0.05,\n",
      "    'scale_Kp_DC': 0.05,\n",
      "    'scale_Kp_GCC': 0.05,\n",
      "    'scale_Kp_Q': 0.05,\n",
      "    'wp': 200000.0}\n"
     ]
    }
   ],
   "source": [
    "_=PV_DER1.load_parameter_dictionary(file_name='my_DER.pkl')"
   ]
  },
  {
   "cell_type": "markdown",
   "metadata": {
    "colab_type": "text",
    "id": "wsv8bkkuS5VQ"
   },
   "source": [
    "## Specify run time flags, simulation time, and run simulation "
   ]
  },
  {
   "cell_type": "code",
   "execution_count": 11,
   "metadata": {
    "colab": {},
    "colab_type": "code",
    "id": "ltNDDII1S5VR",
    "scrolled": true
   },
   "outputs": [
    {
     "name": "stdout",
     "output_type": "stream",
     "text": [
      "sim_1:Simulation started at 0.0 s and will end at 10.0 s\n",
      "sim_1:Simulation was completed in 00:00:00\n",
      "Active power output error:0.0000\n",
      "Reactive power output error:0.0000\n",
      "Inverter filter active power loss error:0.0000\n",
      "Inverter filter reactive power loss error:0.0000\n",
      "\n",
      "______PVDER-3ph_1 - Voltage_____\n",
      "Vdc:550.00\n",
      "Vta:208.88+0.63j V\n",
      "Vtb:-103.90-181.21j V,Vtb:-104.98+180.58j V\n",
      "Vtn:0.00-0.00j V\n",
      "Va:208.75+0.00j V\n",
      "Vb:-104.38-180.78j V,Vc:-104.38+180.78j V\n",
      "Vn:0.00-0.00j V\n",
      "Vtrms:147.70 V\n",
      "Vpccrms:147.61 V\n",
      "\n",
      "______PVDER-3ph_1 - Current_____\n",
      "ia:66.38+0.00j A\n",
      "ib:-33.19-57.48j A,ic:-33.19+57.48j A\n",
      "In:0.00+0.00j A\n",
      "Irms:46.94 V\n",
      "\n",
      "______PVDER-3ph_1 - Power_____\n",
      "Ppv:20797.7 W\n",
      "S:20797.7+62.3j VA\n",
      "S_PCC:20784.5-0.0j VA\n",
      "\n",
      "______PVDER-3ph_1 - Duty cycle_____\n",
      "ma:0.76+0.00j\n",
      "mb:-0.38-0.66j,mc:-0.38+0.66j\n",
      "m0:0.00-0.00j\n",
      "Wall time: 253 ms\n"
     ]
    },
    {
     "name": "stderr",
     "output_type": "stream",
     "text": [
      "C:\\ProgramData\\Anaconda3\\lib\\site-packages\\scipy\\integrate\\odepack.py:250: ODEintWarning: Integration successful.\n",
      "  warnings.warn(warning_msg, ODEintWarning)\n"
     ]
    }
   ],
   "source": [
    "%%time\n",
    "sim1.jacFlag = True\n",
    "sim1.DEBUG_SIMULATION = False\n",
    "sim1.PER_UNIT = True\n",
    "sim1.DEBUG_SOLVER  = False\n",
    "sim1.tStop = 10.0\n",
    "sim1.tInc = 1/120.# 0.001\n",
    "sim1.run_simulation()\n",
    "PV_DER1.validate_model()\n",
    "PV_DER1.show_PV_DER_states('voltage')\n",
    "PV_DER1.show_PV_DER_states('current')\n",
    "PV_DER1.show_PV_DER_states('power')\n",
    "PV_DER1.show_PV_DER_states('duty cycle')"
   ]
  },
  {
   "cell_type": "markdown",
   "metadata": {},
   "source": [
    "### Get trajectories for current, voltage, and power as a dictionary"
   ]
  },
  {
   "cell_type": "code",
   "execution_count": 12,
   "metadata": {},
   "outputs": [],
   "source": [
    "trajectories = sim1.get_trajectories()"
   ]
  }
 ],
 "metadata": {
  "colab": {
   "include_colab_link": true,
   "name": "PV-DER_usage_example.ipynb",
   "provenance": [],
   "version": "0.3.2"
  },
  "kernelspec": {
   "display_name": "Python 3",
   "language": "python",
   "name": "python3"
  },
  "language_info": {
   "codemirror_mode": {
    "name": "ipython",
    "version": 3
   },
   "file_extension": ".py",
   "mimetype": "text/x-python",
   "name": "python",
   "nbconvert_exporter": "python",
   "pygments_lexer": "ipython3",
   "version": "3.7.3"
  }
 },
 "nbformat": 4,
 "nbformat_minor": 1
}
