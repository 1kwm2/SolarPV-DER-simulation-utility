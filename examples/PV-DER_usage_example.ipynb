{
  "nbformat": 4,
  "nbformat_minor": 0,
  "metadata": {
    "colab": {
      "name": "PV-DER_usage_example.ipynb",
      "version": "0.3.2",
      "provenance": [],
      "include_colab_link": true
    },
    "kernelspec": {
      "display_name": "Python 3",
      "language": "python",
      "name": "python3"
    }
  },
  "cells": [
    {
      "cell_type": "markdown",
      "metadata": {
        "id": "view-in-github",
        "colab_type": "text"
      },
      "source": [
        "<a href=\"https://colab.research.google.com/github/sibyjackgrove/SolarPV-DER-simulation-utility/blob/master/examples/PV-DER_usage_example.ipynb\" target=\"_parent\"><img src=\"https://colab.research.google.com/assets/colab-badge.svg\" alt=\"Open In Colab\"/></a>"
      ]
    },
    {
      "metadata": {
        "id": "n6w3T8oaS84_",
        "colab_type": "text"
      },
      "cell_type": "markdown",
      "source": [
        "### Download and install module"
      ]
    },
    {
      "metadata": {
        "id": "gQqTY85lS8lP",
        "colab_type": "code",
        "colab": {}
      },
      "cell_type": "code",
      "source": [
        "!git clone https://github.com/sibyjackgrove/SolarPV-DER-simulation-utility.git\n",
        "cd SolarPV-DER-simulation-utility"
      ],
      "execution_count": 0,
      "outputs": []
    },
    {
      "metadata": {
        "id": "xgy_uXYsTOsR",
        "colab_type": "code",
        "colab": {}
      },
      "cell_type": "code",
      "source": [
        "pip install -e ."
      ],
      "execution_count": 0,
      "outputs": []
    },
    {
      "metadata": {
        "id": "J4tKN3DvS5U8",
        "colab_type": "text"
      },
      "cell_type": "markdown",
      "source": [
        "### Define Objects for grid, PV-DER, events, simulation environment, and results"
      ]
    },
    {
      "metadata": {
        "id": "JwLCIIkdS5U_",
        "colab_type": "code",
        "colab": {}
      },
      "cell_type": "code",
      "source": [
        "#Import PV-DER modules\n",
        "from pvder.DER_components import SolarPV_DER,PV_module\n",
        "from pvder.grid_components import Grid\n",
        "from pvder.dynamic_simulation import GridSimulation\n",
        "from pvder.simulation_events import SimulationEvents\n",
        "from pvder.utilities import SimulationUtilities,SimulationResults\n",
        "from pvder import utility_functions\n",
        "\n",
        "#Import Python modules\n",
        "import numpy as np\n",
        "import scipy as sci\n",
        "import matplotlib as matplotlib\n",
        "print('Scipy version:',sci.__version__)\n",
        "print('Numpy version:',np.__version__)\n",
        "print('Matplotlib version:',matplotlib.__version__)\n",
        "#To show interactive plot in the notebook cell\n",
        "%matplotlib notebook    "
      ],
      "execution_count": 0,
      "outputs": []
    },
    {
      "metadata": {
        "id": "IrB7IEwGS5VD",
        "colab_type": "text"
      },
      "cell_type": "markdown",
      "source": [
        "### Create objects"
      ]
    },
    {
      "metadata": {
        "id": "p4BNtHXWS5VE",
        "colab_type": "code",
        "colab": {}
      },
      "cell_type": "code",
      "source": [
        "events1 = SimulationEvents()\n",
        "grid1 = Grid(events=events1,unbalance_ratio_b=1.0,unbalance_ratio_c=1.0)\n",
        "PV_DER1 = SolarPV_DER(grid_model=grid1,events=events1,Sinverter_rated = 50.0e3,standAlone = True,STEADY_STATE_INITIALIZATION=False)\n",
        "sim1 = GridSimulation(grid_model=grid1,PV_model=PV_DER1,simulation_events = events1)\n",
        "results1 = SimulationResults(simulation = sim1,PER_UNIT=True)"
      ],
      "execution_count": 0,
      "outputs": []
    },
    {
      "metadata": {
        "id": "Z30Cgj6FS5VG",
        "colab_type": "text"
      },
      "cell_type": "markdown",
      "source": [
        "### Add or remove events during simulation"
      ]
    },
    {
      "metadata": {
        "id": "5R6jLd6gS5VH",
        "colab_type": "code",
        "colab": {}
      },
      "cell_type": "code",
      "source": [
        "#Solar insolation event\n",
        "events1.add_solar_event(3,90,298.15)\n",
        "\n",
        "#Load event\n",
        "events1.add_load_event(5,5.0 + 1j*0.0)\n",
        "\n",
        "#Voltage event\n",
        "events1.add_grid_event(6.0,0.98,60.0)\n",
        "\n",
        "#Frequency event\n",
        "events1.add_grid_event(7,1.00,59.0)\n",
        "\n",
        "#Remove events if needed\n",
        "#events1.remove_solar_event(3)\n",
        "#events1.remove_grid_event(5)\n",
        "#events1.remove_grid_event(6)\n",
        "#events1.remove_load_event(7)\n"
      ],
      "execution_count": 0,
      "outputs": []
    },
    {
      "metadata": {
        "id": "IFUY3iJ4S5VK",
        "colab_type": "text"
      },
      "cell_type": "markdown",
      "source": [
        "### Show events"
      ]
    },
    {
      "metadata": {
        "id": "RJEbUbtZS5VM",
        "colab_type": "code",
        "colab": {}
      },
      "cell_type": "code",
      "source": [
        "events1.show_events()"
      ],
      "execution_count": 0,
      "outputs": []
    },
    {
      "metadata": {
        "id": "wsv8bkkuS5VQ",
        "colab_type": "text"
      },
      "cell_type": "markdown",
      "source": [
        "### Specify run time flags, simulation time, and run simulation "
      ]
    },
    {
      "metadata": {
        "scrolled": true,
        "id": "ltNDDII1S5VR",
        "colab_type": "code",
        "colab": {}
      },
      "cell_type": "code",
      "source": [
        "%%time\n",
        "PV_DER1.MPPT_ENABLE=False\n",
        "PV_DER1.RAMP_ENABLE = False\n",
        "PV_DER1.VOLT_VAR_ENABLE = False\n",
        "PV_DER1.LVRT_ENABLE = False\n",
        "PV_DER1.LFRT_ENABLE = False\n",
        "PV_DER1.DO_EXTRA_CALCULATIONS = True\n",
        "sim1.jacFlag = True\n",
        "sim1.DEBUG_SIMULATION = False\n",
        "sim1.DEBUG_VOLTAGES = True\n",
        "sim1.DEBUG_CURRENTS = True\n",
        "sim1.DEBUG_POWER = False\n",
        "sim1.DEBUG_CONTROLLERS  = True\n",
        "sim1.DEBUG_PLL = False\n",
        "sim1.PER_UNIT = True\n",
        "sim1.DEBUG_SOLVER  = True\n",
        "sim1.tStop = 20.0\n",
        "sim1.tInc = 0.001\n",
        "sim1.run_simulation()\n",
        "PV_DER1.validate_model()"
      ],
      "execution_count": 0,
      "outputs": []
    },
    {
      "metadata": {
        "id": "GniV1HpnS5VT",
        "colab_type": "text"
      },
      "cell_type": "markdown",
      "source": [
        "### Plot results"
      ]
    },
    {
      "metadata": {
        "scrolled": false,
        "id": "l9jahCc6S5VU",
        "colab_type": "code",
        "colab": {}
      },
      "cell_type": "code",
      "source": [
        "results1.PER_UNIT = False\n",
        "results1.PLOT_TITLE = True\n",
        "results1.font_size = 18\n",
        "results1.plot_DER_simulation(plot_type='active_power_Ppv_Pac_PCC')#"
      ],
      "execution_count": 0,
      "outputs": []
    },
    {
      "metadata": {
        "id": "7QZf8WDrS5VX",
        "colab_type": "code",
        "colab": {}
      },
      "cell_type": "code",
      "source": [
        "results1.plot_DER_simulation(plot_type='reactive_power')#_Q_PCC"
      ],
      "execution_count": 0,
      "outputs": []
    },
    {
      "metadata": {
        "scrolled": false,
        "id": "QJxdwDUDS5Vb",
        "colab_type": "code",
        "colab": {}
      },
      "cell_type": "code",
      "source": [
        "results1.PER_UNIT = False\n",
        "results1.plot_DER_simulation(plot_type='voltage_LV') #voltage_Vpcclv #_LV"
      ],
      "execution_count": 0,
      "outputs": []
    },
    {
      "metadata": {
        "id": "kQS_2U6lS5Vf",
        "colab_type": "code",
        "colab": {}
      },
      "cell_type": "code",
      "source": [
        "results1.PER_UNIT = False\n",
        "results1.plot_DER_simulation(plot_type='voltage_Vdc')"
      ],
      "execution_count": 0,
      "outputs": []
    },
    {
      "metadata": {
        "scrolled": false,
        "id": "xwJnnVFUS5Vh",
        "colab_type": "code",
        "colab": {}
      },
      "cell_type": "code",
      "source": [
        "results1.PER_UNIT = False\n",
        "results1.plot_DER_simulation(plot_type='current')"
      ],
      "execution_count": 0,
      "outputs": []
    },
    {
      "metadata": {
        "scrolled": false,
        "id": "IVNITX4eS5Vk",
        "colab_type": "code",
        "colab": {}
      },
      "cell_type": "code",
      "source": [
        "results1.plot_DER_simulation(plot_type='frequency')"
      ],
      "execution_count": 0,
      "outputs": []
    }
  ]
}