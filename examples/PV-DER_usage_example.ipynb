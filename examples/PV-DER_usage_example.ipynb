{
 "cells": [
  {
   "cell_type": "markdown",
   "metadata": {
    "colab_type": "text",
    "id": "view-in-github"
   },
   "source": [
    "<a href=\"https://colab.research.google.com/github/sibyjackgrove/SolarPV-DER-simulation-utility/blob/master/examples/PV-DER_usage_example.ipynb\" target=\"_parent\"><img src=\"https://colab.research.google.com/assets/colab-badge.svg\" alt=\"Open In Colab\"/></a>"
   ]
  },
  {
   "cell_type": "markdown",
   "metadata": {
    "colab_type": "text",
    "id": "n6w3T8oaS84_"
   },
   "source": [
    "# Installation and usage"
   ]
  },
  {
   "cell_type": "markdown",
   "metadata": {},
   "source": [
    "## Installation from repository\n",
    "Users can download the `SolarPV-DER-simulation-utility` repository and install with `pip`."
   ]
  },
  {
   "cell_type": "code",
   "execution_count": null,
   "metadata": {
    "colab": {},
    "colab_type": "code",
    "collapsed": true,
    "id": "gQqTY85lS8lP"
   },
   "outputs": [],
   "source": [
    "try:\n",
    "    import pvder\n",
    "except ImportError:\n",
    "    !git clone https://github.com/sibyjackgrove/SolarPV-DER-simulation-utility.git"
   ]
  },
  {
   "cell_type": "code",
   "execution_count": 9,
   "metadata": {},
   "outputs": [
    {
     "data": {
      "text/plain": [
       "False"
      ]
     },
     "execution_count": 9,
     "metadata": {},
     "output_type": "execute_result"
    }
   ],
   "source": [
    "import os\n",
    "os.path.exists(os.path.join(os.getcwd(), 'SolarPV-DER-simulation-utility'))"
   ]
  },
  {
   "cell_type": "code",
   "execution_count": null,
   "metadata": {
    "collapsed": true
   },
   "outputs": [],
   "source": [
    "import os\n",
    "if os.path.exists(os.path.join(os.getcwd(), 'SolarPV-DER-simulation-utility')):\n",
    "    cd SolarPV-DER-simulation-utility\n",
    "    pip install -e ."
   ]
  },
  {
   "cell_type": "code",
   "execution_count": null,
   "metadata": {
    "colab": {},
    "colab_type": "code",
    "collapsed": true,
    "id": "xgy_uXYsTOsR"
   },
   "outputs": [],
   "source": []
  },
  {
   "cell_type": "markdown",
   "metadata": {},
   "source": [
    "## Basic usage"
   ]
  },
  {
   "cell_type": "markdown",
   "metadata": {
    "colab_type": "text",
    "id": "J4tKN3DvS5U8"
   },
   "source": [
    "### Import classes PV-DER, events, simulation environment, and results"
   ]
  },
  {
   "cell_type": "code",
   "execution_count": null,
   "metadata": {
    "colab": {},
    "colab_type": "code",
    "collapsed": true,
    "id": "JwLCIIkdS5U_"
   },
   "outputs": [],
   "source": [
    "#Import PV-DER modules\n",
    "from pvder.DER_components_single_phase import SolarPV_DER_SinglePhase\n",
    "from pvder.DER_components_three_phase  import SolarPV_DER_ThreePhase\n",
    "from pvder.grid_components import Grid\n",
    "from pvder.dynamic_simulation import DynamicSimulation\n",
    "from pvder.simulation_events import SimulationEvents\n",
    "from pvder.simulation_utilities import SimulationUtilities,SimulationResults\n",
    "from pvder import utility_functions\n",
    "\n",
    "#Import Python modules\n",
    "import numpy as np\n",
    "import scipy as sci\n",
    "import matplotlib as matplotlib\n",
    "print('Scipy version:',sci.__version__)\n",
    "print('Numpy version:',np.__version__)\n",
    "print('Matplotlib version:',matplotlib.__version__)\n",
    "#To show interactive plot in the notebook cell\n",
    "%matplotlib inline    "
   ]
  },
  {
   "cell_type": "markdown",
   "metadata": {
    "colab_type": "text",
    "id": "IrB7IEwGS5VD"
   },
   "source": [
    "### Create objects required to simulate either single phase or three phase PV-DER"
   ]
  },
  {
   "cell_type": "code",
   "execution_count": null,
   "metadata": {
    "colab": {},
    "colab_type": "code",
    "collapsed": true,
    "id": "p4BNtHXWS5VE"
   },
   "outputs": [],
   "source": [
    "SINGLE_PHASE = False\n",
    "events1 = SimulationEvents()\n",
    "grid1 = Grid(events=events1,unbalance_ratio_b=1.0,unbalance_ratio_c=1.0)\n",
    "if SINGLE_PHASE:\n",
    "    PV_DER1 = SolarPV_DER_SinglePhase(grid_model=grid1,events=events1,Sinverter_rated = 10.0e3,standAlone = True,STEADY_STATE_INITIALIZATION=True)\n",
    "else:\n",
    "    PV_DER1 = SolarPV_DER_ThreePhase(grid_model=grid1,events=events1,Sinverter_rated = 50.0e3,standAlone = True,STEADY_STATE_INITIALIZATION=True)\n",
    "sim1 = DynamicSimulation(grid_model=grid1,PV_model=PV_DER1,events = events1)\n",
    "results1 = SimulationResults(simulation = sim1,PER_UNIT=True)"
   ]
  },
  {
   "cell_type": "markdown",
   "metadata": {
    "colab_type": "text",
    "id": "Z30Cgj6FS5VG"
   },
   "source": [
    "### Add or remove events during simulation"
   ]
  },
  {
   "cell_type": "code",
   "execution_count": null,
   "metadata": {
    "colab": {},
    "colab_type": "code",
    "collapsed": true,
    "id": "5R6jLd6gS5VH"
   },
   "outputs": [],
   "source": [
    "#Solar insolation event\n",
    "events1.add_solar_event(3,90,298.15)\n",
    "\n",
    "#Voltage event\n",
    "events1.add_grid_event(6.0,0.98,60.0)\n",
    "\n",
    "#Frequency event\n",
    "events1.add_grid_event(7,1.00,60.0)\n",
    "\n",
    "#Remove events if needed\n",
    "#events1.remove_solar_event(3)\n",
    "#events1.remove_grid_event(5)\n",
    "#events1.remove_grid_event(6)\n",
    "#events1.remove_load_event(7)\n"
   ]
  },
  {
   "cell_type": "markdown",
   "metadata": {
    "colab_type": "text",
    "id": "IFUY3iJ4S5VK"
   },
   "source": [
    "### Show events"
   ]
  },
  {
   "cell_type": "code",
   "execution_count": null,
   "metadata": {
    "colab": {},
    "colab_type": "code",
    "collapsed": true,
    "id": "RJEbUbtZS5VM"
   },
   "outputs": [],
   "source": [
    "events1.show_events()"
   ]
  },
  {
   "cell_type": "markdown",
   "metadata": {
    "colab_type": "text",
    "id": "wsv8bkkuS5VQ"
   },
   "source": [
    "### Specify run time flags, simulation time, and run simulation "
   ]
  },
  {
   "cell_type": "code",
   "execution_count": null,
   "metadata": {
    "colab": {},
    "colab_type": "code",
    "collapsed": true,
    "id": "ltNDDII1S5VR",
    "scrolled": true
   },
   "outputs": [],
   "source": [
    "#%%time\n",
    "PV_DER1.MPPT_ENABLE=False\n",
    "PV_DER1.RAMP_ENABLE = False\n",
    "PV_DER1.VOLT_VAR_ENABLE = False\n",
    "PV_DER1.LVRT_ENABLE = False\n",
    "PV_DER1.LFRT_ENABLE = False\n",
    "PV_DER1.DO_EXTRA_CALCULATIONS = True\n",
    "sim1.jacFlag = True\n",
    "sim1.DEBUG_SIMULATION = False\n",
    "sim1.DEBUG_VOLTAGES = True\n",
    "sim1.DEBUG_CURRENTS = True\n",
    "sim1.DEBUG_POWER = False\n",
    "sim1.DEBUG_CONTROLLERS  = True\n",
    "sim1.DEBUG_PLL = False\n",
    "sim1.PER_UNIT = True\n",
    "sim1.DEBUG_SOLVER  = True\n",
    "sim1.tStop = 20.0\n",
    "sim1.tInc = 0.001\n",
    "sim1.run_simulation()\n",
    "PV_DER1.validate_model()\n",
    "PV_DER1.show_PV_DER_states('voltage')\n",
    "PV_DER1.show_PV_DER_states('current')\n",
    "PV_DER1.show_PV_DER_states('power')\n",
    "PV_DER1.show_PV_DER_states('duty cycle')"
   ]
  },
  {
   "cell_type": "markdown",
   "metadata": {
    "colab_type": "text",
    "id": "GniV1HpnS5VT"
   },
   "source": [
    "### Plot results"
   ]
  },
  {
   "cell_type": "code",
   "execution_count": null,
   "metadata": {
    "colab": {},
    "colab_type": "code",
    "collapsed": true,
    "id": "l9jahCc6S5VU",
    "scrolled": false
   },
   "outputs": [],
   "source": [
    "results1.PER_UNIT = False\n",
    "results1.PLOT_TITLE = True\n",
    "results1.font_size = 18\n",
    "results1.plot_DER_simulation(plot_type='active_power_Ppv_Pac_PCC')#"
   ]
  },
  {
   "cell_type": "code",
   "execution_count": null,
   "metadata": {
    "colab": {},
    "colab_type": "code",
    "collapsed": true,
    "id": "7QZf8WDrS5VX"
   },
   "outputs": [],
   "source": [
    "results1.plot_DER_simulation(plot_type='reactive_power')#_Q_PCC"
   ]
  },
  {
   "cell_type": "code",
   "execution_count": null,
   "metadata": {
    "colab": {},
    "colab_type": "code",
    "collapsed": true,
    "id": "QJxdwDUDS5Vb",
    "scrolled": false
   },
   "outputs": [],
   "source": [
    "results1.plot_DER_simulation(plot_type='voltage_LV') #voltage_Vpcclv"
   ]
  },
  {
   "cell_type": "code",
   "execution_count": null,
   "metadata": {
    "colab": {},
    "colab_type": "code",
    "collapsed": true,
    "id": "kQS_2U6lS5Vf"
   },
   "outputs": [],
   "source": [
    "results1.plot_DER_simulation(plot_type='voltage_Vdc')"
   ]
  },
  {
   "cell_type": "code",
   "execution_count": null,
   "metadata": {
    "colab": {},
    "colab_type": "code",
    "collapsed": true,
    "id": "xwJnnVFUS5Vh",
    "scrolled": false
   },
   "outputs": [],
   "source": [
    "results1.plot_DER_simulation(plot_type='current')"
   ]
  },
  {
   "cell_type": "code",
   "execution_count": null,
   "metadata": {
    "collapsed": true
   },
   "outputs": [],
   "source": [
    "results1.plot_DER_simulation(plot_type='duty_cycle')"
   ]
  }
 ],
 "metadata": {
  "colab": {
   "include_colab_link": true,
   "name": "PV-DER_usage_example.ipynb",
   "provenance": [],
   "version": "0.3.2"
  },
  "kernelspec": {
   "display_name": "Python 3",
   "language": "python",
   "name": "python3"
  },
  "language_info": {
   "codemirror_mode": {
    "name": "ipython",
    "version": 3
   },
   "file_extension": ".py",
   "mimetype": "text/x-python",
   "name": "python",
   "nbconvert_exporter": "python",
   "pygments_lexer": "ipython3",
   "version": "3.6.3"
  }
 },
 "nbformat": 4,
 "nbformat_minor": 1
}
