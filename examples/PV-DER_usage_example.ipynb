{
 "cells": [
  {
   "cell_type": "markdown",
   "metadata": {},
   "source": [
    "### Define Objects for grid, PV-DER, events, simulation environment, and results"
   ]
  },
  {
   "cell_type": "code",
   "execution_count": null,
   "metadata": {},
   "outputs": [],
   "source": [
    "#Import PV-DER modules\n",
    "from pvder.DER_components import SolarPV_DER,PV_module\n",
    "from pvder.grid_components import Grid\n",
    "from pvder.dynamic_simulation import GridSimulation\n",
    "from pvder.simulation_events import SimulationEvents\n",
    "from pvder.utilities import SimulationUtilities,SimulationResults\n",
    "from pvder import utility_functions\n",
    "\n",
    "#Import Python modules\n",
    "import numpy as np\n",
    "import scipy as sci\n",
    "import matplotlib as matplotlib\n",
    "print('Scipy version:',sci.__version__)\n",
    "print('Numpy version:',np.__version__)\n",
    "print('Matplotlib version:',matplotlib.__version__)\n",
    "#To show interactive plot in the notebook cell\n",
    "%matplotlib notebook    "
   ]
  },
  {
   "cell_type": "markdown",
   "metadata": {},
   "source": [
    "### Create objects"
   ]
  },
  {
   "cell_type": "code",
   "execution_count": null,
   "metadata": {},
   "outputs": [],
   "source": [
    "events1 = SimulationEvents()\n",
    "grid1 = Grid(events=events1,unbalance_ratio_b=1.0,unbalance_ratio_c=1.0)\n",
    "PV_DER1 = SolarPV_DER(grid_model=grid1,events=events1,Sinverter_rated = 50.0e3,standAlone = True,STEADY_STATE_INITIALIZATION=False)\n",
    "sim1 = GridSimulation(grid_model=grid1,PV_model=PV_DER1,simulation_events = events1)\n",
    "results1 = SimulationResults(simulation = sim1,PER_UNIT=True)"
   ]
  },
  {
   "cell_type": "markdown",
   "metadata": {},
   "source": [
    "### Add or remove events during simulation"
   ]
  },
  {
   "cell_type": "code",
   "execution_count": null,
   "metadata": {
    "collapsed": true
   },
   "outputs": [],
   "source": [
    "#Solar insolation event\n",
    "events1.add_solar_event(3,90,298.15)\n",
    "\n",
    "#Load event\n",
    "events1.add_load_event(5,5.0 + 1j*0.0)\n",
    "\n",
    "#Voltage event\n",
    "events1.add_grid_event(6.0,0.98,60.0)\n",
    "\n",
    "#Frequency event\n",
    "events1.add_grid_event(7,1.00,59.0)\n",
    "\n",
    "#Remove events if needed\n",
    "#events1.remove_solar_event(3)\n",
    "#events1.remove_grid_event(5)\n",
    "#events1.remove_grid_event(6)\n",
    "#events1.remove_load_event(7)\n"
   ]
  },
  {
   "cell_type": "markdown",
   "metadata": {},
   "source": [
    "### Show events"
   ]
  },
  {
   "cell_type": "code",
   "execution_count": null,
   "metadata": {},
   "outputs": [],
   "source": [
    "events1.show_events()"
   ]
  },
  {
   "cell_type": "markdown",
   "metadata": {},
   "source": [
    "### Specify run time flags, simulation time, and run simulation "
   ]
  },
  {
   "cell_type": "code",
   "execution_count": null,
   "metadata": {
    "scrolled": true
   },
   "outputs": [],
   "source": [
    "%%time\n",
    "PV_DER1.MPPT_ENABLE=False\n",
    "PV_DER1.RAMP_ENABLE = False\n",
    "PV_DER1.VOLT_VAR_ENABLE = False\n",
    "PV_DER1.LVRT_ENABLE = False\n",
    "PV_DER1.LFRT_ENABLE = False\n",
    "PV_DER1.DO_EXTRA_CALCULATIONS = True\n",
    "sim1.jacFlag = True\n",
    "sim1.DEBUG_SIMULATION = False\n",
    "sim1.DEBUG_VOLTAGES = True\n",
    "sim1.DEBUG_CURRENTS = True\n",
    "sim1.DEBUG_POWER = False\n",
    "sim1.DEBUG_CONTROLLERS  = True\n",
    "sim1.DEBUG_PLL = False\n",
    "sim1.PER_UNIT = True\n",
    "sim1.DEBUG_SOLVER  = True\n",
    "sim1.tStop = 20.0\n",
    "sim1.tInc = 0.001\n",
    "sim1.run_simulation()\n",
    "PV_DER1.validate_model()"
   ]
  },
  {
   "cell_type": "markdown",
   "metadata": {},
   "source": [
    "### Plot results"
   ]
  },
  {
   "cell_type": "code",
   "execution_count": null,
   "metadata": {
    "scrolled": false
   },
   "outputs": [],
   "source": [
    "results1.PER_UNIT = False\n",
    "results1.PLOT_TITLE = True\n",
    "results1.font_size = 18\n",
    "results1.plot_DER_simulation(plot_type='active_power_Ppv_Pac_PCC')#"
   ]
  },
  {
   "cell_type": "code",
   "execution_count": null,
   "metadata": {},
   "outputs": [],
   "source": [
    "results1.plot_DER_simulation(plot_type='reactive_power')#_Q_PCC"
   ]
  },
  {
   "cell_type": "code",
   "execution_count": null,
   "metadata": {
    "scrolled": false
   },
   "outputs": [],
   "source": [
    "results1.PER_UNIT = False\n",
    "results1.plot_DER_simulation(plot_type='voltage_LV') #voltage_Vpcclv #_LV"
   ]
  },
  {
   "cell_type": "code",
   "execution_count": null,
   "metadata": {},
   "outputs": [],
   "source": [
    "results1.PER_UNIT = False\n",
    "results1.plot_DER_simulation(plot_type='voltage_Vdc')"
   ]
  },
  {
   "cell_type": "code",
   "execution_count": null,
   "metadata": {
    "scrolled": false
   },
   "outputs": [],
   "source": [
    "results1.PER_UNIT = False\n",
    "results1.plot_DER_simulation(plot_type='current')"
   ]
  },
  {
   "cell_type": "code",
   "execution_count": null,
   "metadata": {
    "scrolled": false
   },
   "outputs": [],
   "source": [
    "results1.plot_DER_simulation(plot_type='frequency')"
   ]
  }
 ],
 "metadata": {
  "kernelspec": {
   "display_name": "Python 3",
   "language": "python",
   "name": "python3"
  },
  "language_info": {
   "codemirror_mode": {
    "name": "ipython",
    "version": 3
   },
   "file_extension": ".py",
   "mimetype": "text/x-python",
   "name": "python",
   "nbconvert_exporter": "python",
   "pygments_lexer": "ipython3",
   "version": "3.6.3"
  }
 },
 "nbformat": 4,
 "nbformat_minor": 2
}
