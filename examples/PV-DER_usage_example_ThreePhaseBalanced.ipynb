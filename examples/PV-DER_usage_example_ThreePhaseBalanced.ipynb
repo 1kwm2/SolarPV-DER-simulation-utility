{
 "cells": [
  {
   "cell_type": "markdown",
   "metadata": {
    "colab_type": "text",
    "id": "view-in-github"
   },
   "source": [
    "<a href=\"https://colab.research.google.com/github/sibyjackgrove/SolarPV-DER-simulation-utility/blob/master/examples/PV-DER_usage_example.ipynb\" target=\"_parent\"><img src=\"https://colab.research.google.com/assets/colab-badge.svg\" alt=\"Open In Colab\"/></a>"
   ]
  },
  {
   "cell_type": "markdown",
   "metadata": {
    "colab_type": "text",
    "id": "n6w3T8oaS84_"
   },
   "source": [
    "# Installation and usage"
   ]
  },
  {
   "cell_type": "markdown",
   "metadata": {},
   "source": [
    "## Installation from repository\n",
    "Users can download the `SolarPV-DER-simulation-utility` repository and install with `pip`. Note that if the installation is done in a Google Colab environment, the kernel need to be restarted before importing the (otherwise you will get a module import error)."
   ]
  },
  {
   "cell_type": "code",
   "execution_count": null,
   "metadata": {
    "colab": {},
    "colab_type": "code",
    "id": "xgy_uXYsTOsR"
   },
   "outputs": [],
   "source": [
    "import os\n",
    "try:\n",
    "    import pvder\n",
    "except ImportError:\n",
    "    !git clone https://github.com/sibyjackgrove/SolarPV-DER-simulation-utility.git\n",
    "        \n",
    "    if os.path.exists(os.path.join(os.getcwd(), 'SolarPV-DER-simulation-utility')):\n",
    "        %cd SolarPV-DER-simulation-utility\n",
    "        !pip install -e .\n",
    "        %cd .."
   ]
  },
  {
   "cell_type": "markdown",
   "metadata": {},
   "source": [
    "## Basic usage"
   ]
  },
  {
   "cell_type": "markdown",
   "metadata": {
    "colab_type": "text",
    "id": "J4tKN3DvS5U8"
   },
   "source": [
    "### Import classes\n",
    "Import classes neccessary to define instances of the PV-DER model, events, simulation, and results."
   ]
  },
  {
   "cell_type": "code",
   "execution_count": 1,
   "metadata": {
    "colab": {},
    "colab_type": "code",
    "id": "JwLCIIkdS5U_"
   },
   "outputs": [
    {
     "name": "stdout",
     "output_type": "stream",
     "text": [
      "Scipy version: 1.2.1\n",
      "Numpy version: 1.16.2\n",
      "Matplotlib version: 3.1.2\n"
     ]
    }
   ],
   "source": [
    "#Import PV-DER modules\n",
    "from pvder.DER_components_three_phase_balanced import SolarPV_DER_ThreePhaseBalanced\n",
    "from pvder.DER_components_three_phase  import SolarPV_DER_ThreePhase\n",
    "from pvder.grid_components import Grid, BaseValues\n",
    "from pvder.dynamic_simulation import DynamicSimulation\n",
    "from pvder.simulation_events import SimulationEvents\n",
    "from pvder.simulation_utilities import SimulationUtilities,SimulationResults\n",
    "from pvder import utility_functions\n",
    "\n",
    "#Import Python modules\n",
    "import logging\n",
    "import numpy as np\n",
    "import scipy as sci\n",
    "import matplotlib as matplotlib\n",
    "import math\n",
    "print('Scipy version:',sci.__version__)\n",
    "print('Numpy version:',np.__version__)\n",
    "print('Matplotlib version:',matplotlib.__version__)\n",
    "#To show interactive plot in the notebook cell\n",
    "%matplotlib inline    "
   ]
  },
  {
   "cell_type": "markdown",
   "metadata": {},
   "source": [
    "### Specify voltages if necessary"
   ]
  },
  {
   "cell_type": "code",
   "execution_count": 2,
   "metadata": {},
   "outputs": [
    {
     "name": "stdout",
     "output_type": "stream",
     "text": [
      "Va:(250+0j),Vrms:176.77669529663686\n"
     ]
    }
   ],
   "source": [
    "Va = (0.5+0j)*BaseValues.Vbase\n",
    "Vrms = abs(Va)/math.sqrt(2)\n",
    "print('Va:{},Vrms:{}'.format(Va,Vrms))"
   ]
  },
  {
   "cell_type": "markdown",
   "metadata": {
    "colab_type": "text",
    "id": "IrB7IEwGS5VD"
   },
   "source": [
    "### Create objects required to simulate three phase balanced PV-DER"
   ]
  },
  {
   "cell_type": "code",
   "execution_count": 3,
   "metadata": {
    "colab": {},
    "colab_type": "code",
    "id": "p4BNtHXWS5VE"
   },
   "outputs": [
    {
     "name": "stderr",
     "output_type": "stream",
     "text": [
      "DEBUG:SolarPV_DER_ThreePhaseBalanced:PVDER-3phBalanced_1:Logging level is set to:DEBUG\n",
      "DEBUG:SolarPV_DER_ThreePhaseBalanced:Creating PV module instance for ThreePhaseBalanced DER with rating:50 kVA\n",
      "DEBUG:SolarPV_DER_ThreePhaseBalanced:PVDER-3phBalanced_1:No grid model attached since PV-DER instance is not stand alone!\n",
      "DEBUG:SolarPV_DER_ThreePhaseBalanced:Creating inverter instance for DER with parameter ID:50!\n",
      "DEBUG:SolarPV_DER_ThreePhaseBalanced:PVDER-3phBalanced_1:Filter inductance 0.0003 H is acceptable since AC side current ripple is 1.03% (< 10%)\n",
      "DEBUG:SolarPV_DER_ThreePhaseBalanced:PVDER-3phBalanced_1:Warning:DC link capacitance of 0.0003 F results in DC link voltage ripple of 4.2% (> 1%)!Please use at least 0.00125 F.\n",
      "DEBUG:SolarPV_DER_ThreePhaseBalanced:PVDER-3phBalanced_1:V_LV0 was not in pvderconfig, updating with default value 0.5.\n",
      "DEBUG:SolarPV_DER_ThreePhaseBalanced:PVDER-3phBalanced_1:V_LV1 was not in pvderconfig, updating with default value 0.7.\n",
      "DEBUG:SolarPV_DER_ThreePhaseBalanced:PVDER-3phBalanced_1:V_LV2 was not in pvderconfig, updating with default value 0.88.\n",
      "DEBUG:SolarPV_DER_ThreePhaseBalanced:PVDER-3phBalanced_1:t_LV0_limit was not in pvderconfig, updating with default value 0.1.\n",
      "DEBUG:SolarPV_DER_ThreePhaseBalanced:PVDER-3phBalanced_1:t_LV1_limit was not in pvderconfig, updating with default value 1.0.\n",
      "DEBUG:SolarPV_DER_ThreePhaseBalanced:PVDER-3phBalanced_1:t_LV2_limit was not in pvderconfig, updating with default value 2.0.\n",
      "DEBUG:SolarPV_DER_ThreePhaseBalanced:PVDER-3phBalanced_1:V_HV1 was not in pvderconfig, updating with default value 1.06.\n",
      "DEBUG:SolarPV_DER_ThreePhaseBalanced:PVDER-3phBalanced_1:V_HV2 was not in pvderconfig, updating with default value 1.12.\n",
      "DEBUG:SolarPV_DER_ThreePhaseBalanced:PVDER-3phBalanced_1:t_HV1_limit was not in pvderconfig, updating with default value 2.0.\n",
      "DEBUG:SolarPV_DER_ThreePhaseBalanced:PVDER-3phBalanced_1:t_HV2_limit was not in pvderconfig, updating with default value 0.016666666666666666.\n",
      "DEBUG:SolarPV_DER_ThreePhaseBalanced:PVDER-3phBalanced_1:VRT_INSTANTANEOUS_TRIP was not in pvderconfig, updating with default value False.\n",
      "DEBUG:SolarPV_DER_ThreePhaseBalanced:PVDER-3phBalanced_1:VRT_MOMENTARY_CESSATION was not in pvderconfig, updating with default value True.\n",
      "DEBUG:SolarPV_DER_ThreePhaseBalanced:PVDER-3phBalanced_1:F_LF1 was not in pvderconfig, updating with default value 57.0.\n",
      "DEBUG:SolarPV_DER_ThreePhaseBalanced:PVDER-3phBalanced_1:F_LF2 was not in pvderconfig, updating with default value 58.8.\n",
      "DEBUG:SolarPV_DER_ThreePhaseBalanced:PVDER-3phBalanced_1:t_LF1_limit was not in pvderconfig, updating with default value 0.016666666666666666.\n",
      "DEBUG:SolarPV_DER_ThreePhaseBalanced:PVDER-3phBalanced_1:t_LF2_limit was not in pvderconfig, updating with default value 299.0.\n",
      "DEBUG:SolarPV_DER_ThreePhaseBalanced:PVDER-3phBalanced_1:F_HF1 was not in pvderconfig, updating with default value 61.2.\n",
      "DEBUG:SolarPV_DER_ThreePhaseBalanced:PVDER-3phBalanced_1:F_HF2 was not in pvderconfig, updating with default value 62.0.\n",
      "DEBUG:SolarPV_DER_ThreePhaseBalanced:PVDER-3phBalanced_1:t_HF1_limit was not in pvderconfig, updating with default value 299.0.\n",
      "DEBUG:SolarPV_DER_ThreePhaseBalanced:PVDER-3phBalanced_1:t_HF2_limit was not in pvderconfig, updating with default value 0.016666666666666666.\n",
      "DEBUG:SolarPV_DER_ThreePhaseBalanced:PVDER-3phBalanced_1:FRT_INSTANTANEOUS_TRIP was not in pvderconfig, updating with default value False.\n",
      "DEBUG:SolarPV_DER_ThreePhaseBalanced:PVDER-3phBalanced_1:OUTPUT_RESTORE_DELAY was not in pvderconfig, updating with default value 0.5.\n",
      "DEBUG:SolarPV_DER_ThreePhaseBalanced:PVDER-3phBalanced_1:Reference event counters reset!\n",
      "DEBUG:SolarPV_DER_ThreePhaseBalanced:Solving for steady state at current operating point.\n",
      "DEBUG:SolarPV_DER_ThreePhaseBalanced:PVDER-3phBalanced_1:Steady state values for operating point defined by Ppv:45754.90 W, Vdc:550.00 V, va:250.00+0.00j V found at:\n",
      "INFO:SolarPV_DER_ThreePhaseBalanced:PVDER-3phBalanced_1:Instance created with parameter ID: 50; Specifications - Srated:50.0 kVA, Vrms:176.8 V ,Steady state:True,LVRT Enable:True, LVRT Instantaneous trip:False\n"
     ]
    },
    {
     "name": "stdout",
     "output_type": "stream",
     "text": [
      "Optimization terminated successfully.    (Exit mode 0)\n",
      "            Current function value: 1.0826717837388197e-13\n",
      "            Iterations: 8\n",
      "            Function evaluations: 51\n",
      "            Gradient evaluations: 8\n",
      "\n",
      "______PVDER-3phBalanced_1 - Power_____\n",
      "Ppv:45754.9 W\n",
      "S:45754.9+210.1j VA\n",
      "S_PCC:45710.3+0.0j VA\n",
      "\n",
      "______PVDER-3phBalanced_1 - Duty cycle_____\n",
      "ma:0.91+0.00j\n",
      "\n",
      "______PVDER-3phBalanced_1 - Voltage_____\n",
      "Vdc:550.00\n",
      "Vta:250.24+1.15j V\n",
      "Va:250.00+0.00j V\n",
      "Vtrms:176.95 V\n",
      "Vpccrms:176.78 V\n",
      "\n",
      "______PVDER-3phBalanced_1 - Current_____\n",
      "ia:121.89-0.00j A\n",
      "Irms:86.19 V\n"
     ]
    }
   ],
   "source": [
    "logging.debug('test')\n",
    "STAND_ALONE = False\n",
    "STEADY_STATE = True\n",
    "verbosity = 'DEBUG' #DEBUG,INFO\n",
    "LOOP=True\n",
    "events1 = SimulationEvents()\n",
    "\n",
    "if STAND_ALONE:\n",
    "    grid1 = Grid(events=events1)\n",
    "    PV_DER1 = SolarPV_DER_ThreePhaseBalanced(grid_model=grid1,events=events1,Sinverter_rated = 50.0e3,standAlone = STAND_ALONE,STEADY_STATE_INITIALIZATION=STEADY_STATE,verbosity = verbosity)\n",
    "    sim1 = DynamicSimulation(grid_model=grid1,PV_model=PV_DER1,events = events1)\n",
    "else:\n",
    "    PV_DER1 = SolarPV_DER_ThreePhaseBalanced(events=events1,Sinverter_rated = 50.0e3,Vrms_rated = Vrms, #175\n",
    "                                             gridVoltagePhaseA = Va,gridFrequency=2*math.pi*60.0,\n",
    "                                             standAlone = STAND_ALONE,STEADY_STATE_INITIALIZATION=STEADY_STATE,verbosity = verbosity)\n",
    "    sim1 = DynamicSimulation(PV_model=PV_DER1,events = events1,LOOP_MODE=LOOP)\n",
    "results1 = SimulationResults(simulation = sim1,PER_UNIT=True)"
   ]
  },
  {
   "cell_type": "code",
   "execution_count": 4,
   "metadata": {},
   "outputs": [
    {
     "data": {
      "text/plain": [
       "(-0.2499999999999999-0.43301270189221935j)"
      ]
     },
     "execution_count": 4,
     "metadata": {},
     "output_type": "execute_result"
    }
   ],
   "source": [
    "PV_DER1.gridVoltagePhaseB"
   ]
  },
  {
   "cell_type": "markdown",
   "metadata": {
    "colab_type": "text",
    "id": "Z30Cgj6FS5VG"
   },
   "source": [
    "### Add or remove events during simulation"
   ]
  },
  {
   "cell_type": "code",
   "execution_count": 5,
   "metadata": {
    "colab": {},
    "colab_type": "code",
    "id": "5R6jLd6gS5VH"
   },
   "outputs": [],
   "source": [
    "#Solar insolation event\n",
    "events1.add_solar_event(3,90,298.15)\n",
    "\n",
    "#Voltage sag event\n",
    "events1.add_grid_event(6.0,Vgrid=0.98,Vgrid_angle =0.0,fgrid=60.0)\n",
    "#Voltage rise event\n",
    "events1.add_grid_event(7.0,Vgrid=1.01,Vgrid_angle =0.0,fgrid=60.0)\n",
    "\n",
    "#Remove events if needed\n",
    "#events1.remove_solar_event(3)\n",
    "#events1.remove_grid_event(5)\n",
    "#events1.remove_grid_event(6)\n",
    "#events1.remove_load_event(7)\n"
   ]
  },
  {
   "cell_type": "markdown",
   "metadata": {
    "colab_type": "text",
    "id": "IFUY3iJ4S5VK"
   },
   "source": [
    "### Show events"
   ]
  },
  {
   "cell_type": "code",
   "execution_count": 6,
   "metadata": {
    "colab": {},
    "colab_type": "code",
    "id": "RJEbUbtZS5VM"
   },
   "outputs": [
    {
     "name": "stdout",
     "output_type": "stream",
     "text": [
      "Showing all event in events instance events_1\n",
      "Total solar events:1\n",
      "Total grid events:2\n",
      "t:3.000,Solar event, Solar insolation is 90.00 W/cm2, Temperature is 298.15\n",
      "t:6.000, Grid event, Grid voltage: Magnitude:0.98, Angle:0.000 V, Frequency is 60.00\n",
      "t:7.000, Grid event, Grid voltage: Magnitude:1.01, Angle:0.000 V, Frequency is 60.00\n"
     ]
    }
   ],
   "source": [
    "events1.show_events()"
   ]
  },
  {
   "cell_type": "markdown",
   "metadata": {
    "colab_type": "text",
    "id": "wsv8bkkuS5VQ"
   },
   "source": [
    "### Specify run time flags, simulation time, and run simulation "
   ]
  },
  {
   "cell_type": "code",
   "execution_count": 7,
   "metadata": {
    "colab": {},
    "colab_type": "code",
    "id": "ltNDDII1S5VR",
    "scrolled": true
   },
   "outputs": [
    {
     "name": "stdout",
     "output_type": "stream",
     "text": [
      "t:0.0,V:(250+0j)\n",
      "sim_1:Simulation started in loop mode with a step size of 0.0010 s!\n",
      "PVDER-3phBalanced_1:Time:[0.0, 0.001],Methods:[2],Time steps:[0.00112116]\n",
      "PVDER-3phBalanced_1:Simulation successful for all time steps!\n",
      "t:0.001,V:(250+0j)\n",
      "PVDER-3phBalanced_1:Time:[0.001, 0.002],Methods:[2],Time steps:[0.00069615]\n",
      "PVDER-3phBalanced_1:Simulation successful for all time steps!\n",
      "t:0.002,V:(250+0j)\n",
      "PVDER-3phBalanced_1:Time:[0.002, 0.003],Methods:[2],Time steps:[0.00062197]\n",
      "PVDER-3phBalanced_1:Simulation successful for all time steps!\n",
      "t:0.003,V:(250+0j)\n",
      "PVDER-3phBalanced_1:Time:[0.003, 0.004],Methods:[2],Time steps:[0.00112427]\n",
      "PVDER-3phBalanced_1:Simulation successful for all time steps!\n",
      "t:0.004,V:(250+0j)\n",
      "PVDER-3phBalanced_1:Time:[0.004, 0.005],Methods:[2],Time steps:[0.00075902]\n",
      "PVDER-3phBalanced_1:Simulation successful for all time steps!\n",
      "t:0.005,V:(250+0j)\n",
      "PVDER-3phBalanced_1:Time:[0.005, 0.006],Methods:[2],Time steps:[0.00284654]\n",
      "PVDER-3phBalanced_1:Simulation successful for all time steps!\n",
      "t:0.006,V:(250+0j)\n",
      "PVDER-3phBalanced_1:Time:[0.006, 0.007],Methods:[2],Time steps:[0.00084922]\n",
      "PVDER-3phBalanced_1:Simulation successful for all time steps!\n",
      "t:0.007,V:(250+0j)\n",
      "PVDER-3phBalanced_1:Time:[0.007, 0.008],Methods:[2],Time steps:[0.00226618]\n",
      "PVDER-3phBalanced_1:Simulation successful for all time steps!\n",
      "t:0.008,V:(250+0j)\n",
      "PVDER-3phBalanced_1:Time:[0.008, 0.009000000000000001],Methods:[2],Time steps:[0.00113088]\n",
      "PVDER-3phBalanced_1:Simulation successful for all time steps!\n",
      "t:0.009000000000000001,V:(250+0j)\n",
      "PVDER-3phBalanced_1:Time:[0.009000000000000001, 0.010000000000000002],Methods:[2],Time steps:[0.00102521]\n",
      "PVDER-3phBalanced_1:Simulation successful for all time steps!\n",
      "t:0.010000000000000002,V:(250+0j)\n",
      "PVDER-3phBalanced_1:Time:[0.010000000000000002, 0.011000000000000003],Methods:[2],Time steps:[0.00042067]\n",
      "PVDER-3phBalanced_1:Simulation successful for all time steps!\n",
      "t:0.011000000000000003,V:(250+0j)\n",
      "PVDER-3phBalanced_1:Time:[0.011000000000000003, 0.012000000000000004],Methods:[2],Time steps:[0.00123432]\n",
      "PVDER-3phBalanced_1:Simulation successful for all time steps!\n",
      "t:0.012000000000000004,V:(250+0j)\n",
      "PVDER-3phBalanced_1:Time:[0.012000000000000004, 0.013000000000000005],Methods:[2],Time steps:[0.0014706]\n",
      "PVDER-3phBalanced_1:Simulation successful for all time steps!\n",
      "t:0.013000000000000005,V:(250+0j)\n",
      "PVDER-3phBalanced_1:Time:[0.013000000000000005, 0.014000000000000005],Methods:[2],Time steps:[0.00392897]\n",
      "PVDER-3phBalanced_1:Simulation successful for all time steps!\n",
      "t:0.014000000000000005,V:(250+0j)\n",
      "PVDER-3phBalanced_1:Time:[0.014000000000000005, 0.015000000000000006],Methods:[2],Time steps:[0.00080354]\n",
      "PVDER-3phBalanced_1:Simulation successful for all time steps!\n",
      "t:0.015000000000000006,V:(250+0j)\n",
      "PVDER-3phBalanced_1:Time:[0.015000000000000006, 0.016000000000000007],Methods:[2],Time steps:[0.00145515]\n",
      "PVDER-3phBalanced_1:Simulation successful for all time steps!\n",
      "t:0.016000000000000007,V:(250+0j)\n",
      "PVDER-3phBalanced_1:Time:[0.016000000000000007, 0.017000000000000008],Methods:[2],Time steps:[0.00189116]\n",
      "PVDER-3phBalanced_1:Simulation successful for all time steps!\n",
      "t:0.017000000000000008,V:(250+0j)\n",
      "PVDER-3phBalanced_1:Time:[0.017000000000000008, 0.01800000000000001],Methods:[2],Time steps:[0.00335723]\n",
      "PVDER-3phBalanced_1:Simulation successful for all time steps!\n",
      "t:0.01800000000000001,V:(250+0j)\n",
      "PVDER-3phBalanced_1:Time:[0.01800000000000001, 0.01900000000000001],Methods:[2],Time steps:[0.00248996]\n",
      "PVDER-3phBalanced_1:Simulation successful for all time steps!\n",
      "t:0.01900000000000001,V:(250+0j)\n",
      "PVDER-3phBalanced_1:Time:[0.01900000000000001, 0.02000000000000001],Methods:[2],Time steps:[0.00051929]\n",
      "PVDER-3phBalanced_1:Simulation successful for all time steps!\n",
      "t:0.02000000000000001,V:(250+0j)\n",
      "PVDER-3phBalanced_1:Time:[0.02000000000000001, 0.02100000000000001],Methods:[2],Time steps:[0.00082756]\n",
      "PVDER-3phBalanced_1:Simulation successful for all time steps!\n",
      "t:0.02100000000000001,V:(250+0j)\n",
      "PVDER-3phBalanced_1:Time:[0.02100000000000001, 0.022000000000000013],Methods:[2],Time steps:[0.00070429]\n",
      "PVDER-3phBalanced_1:Simulation successful for all time steps!\n",
      "t:0.022000000000000013,V:(250+0j)\n",
      "PVDER-3phBalanced_1:Time:[0.022000000000000013, 0.023000000000000013],Methods:[2],Time steps:[0.00075264]\n",
      "PVDER-3phBalanced_1:Simulation successful for all time steps!\n",
      "t:0.023000000000000013,V:(250+0j)\n"
     ]
    },
    {
     "name": "stderr",
     "output_type": "stream",
     "text": [
      "C:\\ProgramData\\Anaconda3\\lib\\site-packages\\scipy\\integrate\\odepack.py:250: ODEintWarning: Integration successful.\n",
      "  warnings.warn(warning_msg, ODEintWarning)\n"
     ]
    },
    {
     "name": "stdout",
     "output_type": "stream",
     "text": [
      "PVDER-3phBalanced_1:Time:[0.023000000000000013, 0.024000000000000014],Methods:[2],Time steps:[0.0039164]\n",
      "PVDER-3phBalanced_1:Simulation successful for all time steps!\n",
      "t:0.024000000000000014,V:(250+0j)\n",
      "PVDER-3phBalanced_1:Time:[0.024000000000000014, 0.025000000000000015],Methods:[2],Time steps:[0.00125069]\n",
      "PVDER-3phBalanced_1:Simulation successful for all time steps!\n",
      "t:0.025000000000000015,V:(250+0j)\n",
      "PVDER-3phBalanced_1:Time:[0.025000000000000015, 0.026000000000000016],Methods:[2],Time steps:[0.00087477]\n",
      "PVDER-3phBalanced_1:Simulation successful for all time steps!\n",
      "t:0.026000000000000016,V:(250+0j)\n",
      "PVDER-3phBalanced_1:Time:[0.026000000000000016, 0.027000000000000017],Methods:[2],Time steps:[0.00063827]\n",
      "PVDER-3phBalanced_1:Simulation successful for all time steps!\n",
      "t:0.027000000000000017,V:(250+0j)\n",
      "PVDER-3phBalanced_1:Time:[0.027000000000000017, 0.028000000000000018],Methods:[2],Time steps:[0.00318678]\n",
      "PVDER-3phBalanced_1:Simulation successful for all time steps!\n",
      "t:0.028000000000000018,V:(250+0j)\n",
      "PVDER-3phBalanced_1:Time:[0.028000000000000018, 0.02900000000000002],Methods:[2],Time steps:[0.00098772]\n",
      "PVDER-3phBalanced_1:Simulation successful for all time steps!\n",
      "t:0.02900000000000002,V:(250+0j)\n",
      "PVDER-3phBalanced_1:Time:[0.02900000000000002, 0.03000000000000002],Methods:[2],Time steps:[0.00382026]\n",
      "PVDER-3phBalanced_1:Simulation successful for all time steps!\n",
      "t:0.03000000000000002,V:(250+0j)\n",
      "PVDER-3phBalanced_1:Time:[0.03000000000000002, 0.03100000000000002],Methods:[2],Time steps:[0.00220063]\n",
      "PVDER-3phBalanced_1:Simulation successful for all time steps!\n",
      "t:0.03100000000000002,V:(250+0j)\n",
      "PVDER-3phBalanced_1:Time:[0.03100000000000002, 0.03200000000000002],Methods:[2],Time steps:[0.00045542]\n",
      "PVDER-3phBalanced_1:Simulation successful for all time steps!\n",
      "t:0.03200000000000002,V:(250+0j)\n",
      "PVDER-3phBalanced_1:Time:[0.03200000000000002, 0.03300000000000002],Methods:[2],Time steps:[0.00227441]\n",
      "PVDER-3phBalanced_1:Simulation successful for all time steps!\n",
      "t:0.03300000000000002,V:(250+0j)\n",
      "PVDER-3phBalanced_1:Time:[0.03300000000000002, 0.03400000000000002],Methods:[2],Time steps:[0.00101543]\n",
      "PVDER-3phBalanced_1:Simulation successful for all time steps!\n",
      "t:0.03400000000000002,V:(250+0j)\n",
      "PVDER-3phBalanced_1:Time:[0.03400000000000002, 0.035000000000000024],Methods:[2],Time steps:[0.00255721]\n",
      "PVDER-3phBalanced_1:Simulation successful for all time steps!\n",
      "t:0.035000000000000024,V:(250+0j)\n",
      "PVDER-3phBalanced_1:Time:[0.035000000000000024, 0.036000000000000025],Methods:[2],Time steps:[0.00402174]\n",
      "PVDER-3phBalanced_1:Simulation successful for all time steps!\n",
      "t:0.036000000000000025,V:(250+0j)\n",
      "PVDER-3phBalanced_1:Time:[0.036000000000000025, 0.037000000000000026],Methods:[2],Time steps:[0.00044262]\n",
      "PVDER-3phBalanced_1:Simulation successful for all time steps!\n",
      "t:0.037000000000000026,V:(250+0j)\n",
      "PVDER-3phBalanced_1:Time:[0.037000000000000026, 0.03800000000000003],Methods:[2],Time steps:[0.00109763]\n",
      "PVDER-3phBalanced_1:Simulation successful for all time steps!\n",
      "t:0.03800000000000003,V:(250+0j)\n",
      "PVDER-3phBalanced_1:Time:[0.03800000000000003, 0.03900000000000003],Methods:[2],Time steps:[0.00063428]\n",
      "PVDER-3phBalanced_1:Simulation successful for all time steps!\n",
      "t:0.03900000000000003,V:(250+0j)\n",
      "PVDER-3phBalanced_1:Time:[0.03900000000000003, 0.04000000000000003],Methods:[2],Time steps:[0.00117239]\n",
      "PVDER-3phBalanced_1:Simulation successful for all time steps!\n",
      "t:0.04000000000000003,V:(250+0j)\n",
      "PVDER-3phBalanced_1:Time:[0.04000000000000003, 0.04100000000000003],Methods:[2],Time steps:[0.00062786]\n",
      "PVDER-3phBalanced_1:Simulation successful for all time steps!\n",
      "t:0.04100000000000003,V:(250+0j)\n",
      "PVDER-3phBalanced_1:Time:[0.04100000000000003, 0.04200000000000003],Methods:[2],Time steps:[0.00148151]\n",
      "PVDER-3phBalanced_1:Simulation successful for all time steps!\n",
      "t:0.04200000000000003,V:(250+0j)\n",
      "PVDER-3phBalanced_1:Time:[0.04200000000000003, 0.04300000000000003],Methods:[2],Time steps:[0.00191339]\n",
      "PVDER-3phBalanced_1:Simulation successful for all time steps!\n",
      "t:0.04300000000000003,V:(250+0j)\n",
      "PVDER-3phBalanced_1:Time:[0.04300000000000003, 0.04400000000000003],Methods:[2],Time steps:[0.00347062]\n",
      "PVDER-3phBalanced_1:Simulation successful for all time steps!\n",
      "t:0.04400000000000003,V:(250+0j)\n",
      "PVDER-3phBalanced_1:Time:[0.04400000000000003, 0.04500000000000003],Methods:[2],Time steps:[0.00177823]\n",
      "PVDER-3phBalanced_1:Simulation successful for all time steps!\n",
      "t:0.04500000000000003,V:(250+0j)\n",
      "PVDER-3phBalanced_1:Time:[0.04500000000000003, 0.046000000000000034],Methods:[2],Time steps:[0.0017795]\n",
      "PVDER-3phBalanced_1:Simulation successful for all time steps!\n",
      "t:0.046000000000000034,V:(250+0j)\n",
      "PVDER-3phBalanced_1:Time:[0.046000000000000034, 0.047000000000000035],Methods:[2],Time steps:[0.00063095]\n",
      "PVDER-3phBalanced_1:Simulation successful for all time steps!\n",
      "t:0.047000000000000035,V:(250+0j)\n",
      "PVDER-3phBalanced_1:Time:[0.047000000000000035, 0.048000000000000036],Methods:[2],Time steps:[0.00079155]\n",
      "PVDER-3phBalanced_1:Simulation successful for all time steps!\n",
      "t:0.048000000000000036,V:(250+0j)\n",
      "PVDER-3phBalanced_1:Time:[0.048000000000000036, 0.04900000000000004],Methods:[2],Time steps:[0.00191809]\n",
      "PVDER-3phBalanced_1:Simulation successful for all time steps!\n",
      "t:0.04900000000000004,V:(250+0j)\n",
      "PVDER-3phBalanced_1:Time:[0.04900000000000004, 0.05000000000000004],Methods:[2],Time steps:[0.00051377]\n",
      "PVDER-3phBalanced_1:Simulation successful for all time steps!\n",
      "t:0.05000000000000004,V:(250+0j)\n",
      "PVDER-3phBalanced_1:Time:[0.05000000000000004, 0.05100000000000004],Methods:[2],Time steps:[0.00228709]\n",
      "PVDER-3phBalanced_1:Simulation successful for all time steps!\n",
      "t:0.05100000000000004,V:(250+0j)\n",
      "PVDER-3phBalanced_1:Time:[0.05100000000000004, 0.05200000000000004],Methods:[2],Time steps:[0.00271606]\n",
      "PVDER-3phBalanced_1:Simulation successful for all time steps!\n",
      "t:0.05200000000000004,V:(250+0j)\n",
      "PVDER-3phBalanced_1:Time:[0.05200000000000004, 0.05300000000000004],Methods:[2],Time steps:[0.00113832]\n",
      "PVDER-3phBalanced_1:Simulation successful for all time steps!\n",
      "t:0.05300000000000004,V:(250+0j)\n",
      "PVDER-3phBalanced_1:Time:[0.05300000000000004, 0.05400000000000004],Methods:[2],Time steps:[0.00057331]\n",
      "PVDER-3phBalanced_1:Simulation successful for all time steps!\n",
      "t:0.05400000000000004,V:(250+0j)\n",
      "PVDER-3phBalanced_1:Time:[0.05400000000000004, 0.05500000000000004],Methods:[2],Time steps:[0.00327449]\n",
      "PVDER-3phBalanced_1:Simulation successful for all time steps!\n",
      "t:0.05500000000000004,V:(250+0j)\n",
      "PVDER-3phBalanced_1:Time:[0.05500000000000004, 0.05600000000000004],Methods:[2],Time steps:[0.00123196]\n",
      "PVDER-3phBalanced_1:Simulation successful for all time steps!\n",
      "t:0.05600000000000004,V:(250+0j)\n",
      "PVDER-3phBalanced_1:Time:[0.05600000000000004, 0.057000000000000044],Methods:[2],Time steps:[0.00055166]\n",
      "PVDER-3phBalanced_1:Simulation successful for all time steps!\n",
      "t:0.057000000000000044,V:(250+0j)\n",
      "PVDER-3phBalanced_1:Time:[0.057000000000000044, 0.058000000000000045],Methods:[2],Time steps:[0.00055928]\n",
      "PVDER-3phBalanced_1:Simulation successful for all time steps!\n",
      "t:0.058000000000000045,V:(250+0j)\n",
      "PVDER-3phBalanced_1:Time:[0.058000000000000045, 0.059000000000000045],Methods:[2],Time steps:[0.00111319]\n",
      "PVDER-3phBalanced_1:Simulation successful for all time steps!\n",
      "t:0.059000000000000045,V:(250+0j)\n",
      "PVDER-3phBalanced_1:Time:[0.059000000000000045, 0.060000000000000046],Methods:[2],Time steps:[0.0009841]\n",
      "PVDER-3phBalanced_1:Simulation successful for all time steps!\n",
      "t:0.060000000000000046,V:(250+0j)\n",
      "PVDER-3phBalanced_1:Time:[0.060000000000000046, 0.06100000000000005],Methods:[2],Time steps:[0.00107655]\n",
      "PVDER-3phBalanced_1:Simulation successful for all time steps!\n",
      "t:0.06100000000000005,V:(250+0j)\n",
      "PVDER-3phBalanced_1:Time:[0.06100000000000005, 0.06200000000000005],Methods:[2],Time steps:[0.00106236]\n",
      "PVDER-3phBalanced_1:Simulation successful for all time steps!\n",
      "t:0.06200000000000005,V:(250+0j)\n",
      "PVDER-3phBalanced_1:Time:[0.06200000000000005, 0.06300000000000004],Methods:[2],Time steps:[0.00066205]\n",
      "PVDER-3phBalanced_1:Simulation successful for all time steps!\n",
      "t:0.06300000000000004,V:(250+0j)\n",
      "PVDER-3phBalanced_1:Time:[0.06300000000000004, 0.06400000000000004],Methods:[2],Time steps:[0.00317668]\n",
      "PVDER-3phBalanced_1:Simulation successful for all time steps!\n",
      "t:0.06400000000000004,V:(250+0j)\n",
      "PVDER-3phBalanced_1:Time:[0.06400000000000004, 0.06500000000000004],Methods:[2],Time steps:[0.00244109]\n",
      "PVDER-3phBalanced_1:Simulation successful for all time steps!\n",
      "t:0.06500000000000004,V:(250+0j)\n",
      "PVDER-3phBalanced_1:Time:[0.06500000000000004, 0.06600000000000004],Methods:[2],Time steps:[0.00045263]\n",
      "PVDER-3phBalanced_1:Simulation successful for all time steps!\n",
      "t:0.06600000000000004,V:(250+0j)\n",
      "PVDER-3phBalanced_1:Time:[0.06600000000000004, 0.06700000000000005],Methods:[2],Time steps:[0.00149629]\n",
      "PVDER-3phBalanced_1:Simulation successful for all time steps!\n",
      "t:0.06700000000000005,V:(250+0j)\n",
      "PVDER-3phBalanced_1:Time:[0.06700000000000005, 0.06800000000000005],Methods:[2],Time steps:[0.00117115]\n",
      "PVDER-3phBalanced_1:Simulation successful for all time steps!\n",
      "t:0.06800000000000005,V:(250+0j)\n",
      "PVDER-3phBalanced_1:Time:[0.06800000000000005, 0.06900000000000005],Methods:[2],Time steps:[0.00207732]\n",
      "PVDER-3phBalanced_1:Simulation successful for all time steps!\n",
      "t:0.06900000000000005,V:(250+0j)\n",
      "PVDER-3phBalanced_1:Time:[0.06900000000000005, 0.07000000000000005],Methods:[2],Time steps:[0.00424793]\n",
      "PVDER-3phBalanced_1:Simulation successful for all time steps!\n",
      "t:0.07000000000000005,V:(250+0j)\n",
      "PVDER-3phBalanced_1:Time:[0.07000000000000005, 0.07100000000000005],Methods:[2],Time steps:[0.00123174]\n",
      "PVDER-3phBalanced_1:Simulation successful for all time steps!\n",
      "t:0.07100000000000005,V:(250+0j)\n",
      "PVDER-3phBalanced_1:Time:[0.07100000000000005, 0.07200000000000005],Methods:[2],Time steps:[0.00284176]\n",
      "PVDER-3phBalanced_1:Simulation successful for all time steps!\n",
      "t:0.07200000000000005,V:(250+0j)\n",
      "PVDER-3phBalanced_1:Time:[0.07200000000000005, 0.07300000000000005],Methods:[2],Time steps:[0.00181757]\n",
      "PVDER-3phBalanced_1:Simulation successful for all time steps!\n",
      "t:0.07300000000000005,V:(250+0j)\n",
      "PVDER-3phBalanced_1:Time:[0.07300000000000005, 0.07400000000000005],Methods:[2],Time steps:[0.00057501]\n",
      "PVDER-3phBalanced_1:Simulation successful for all time steps!\n",
      "t:0.07400000000000005,V:(250+0j)\n",
      "PVDER-3phBalanced_1:Time:[0.07400000000000005, 0.07500000000000005],Methods:[2],Time steps:[0.00096588]\n",
      "PVDER-3phBalanced_1:Simulation successful for all time steps!\n",
      "t:0.07500000000000005,V:(250+0j)\n",
      "PVDER-3phBalanced_1:Time:[0.07500000000000005, 0.07600000000000005],Methods:[2],Time steps:[0.00067025]\n",
      "PVDER-3phBalanced_1:Simulation successful for all time steps!\n",
      "t:0.07600000000000005,V:(250+0j)\n"
     ]
    },
    {
     "name": "stdout",
     "output_type": "stream",
     "text": [
      "PVDER-3phBalanced_1:Time:[0.07600000000000005, 0.07700000000000005],Methods:[2],Time steps:[0.00132367]\n",
      "PVDER-3phBalanced_1:Simulation successful for all time steps!\n",
      "t:0.07700000000000005,V:(250+0j)\n",
      "PVDER-3phBalanced_1:Time:[0.07700000000000005, 0.07800000000000006],Methods:[2],Time steps:[0.00238181]\n",
      "PVDER-3phBalanced_1:Simulation successful for all time steps!\n",
      "t:0.07800000000000006,V:(250+0j)\n",
      "PVDER-3phBalanced_1:Time:[0.07800000000000006, 0.07900000000000006],Methods:[2],Time steps:[0.00336154]\n",
      "PVDER-3phBalanced_1:Simulation successful for all time steps!\n",
      "t:0.07900000000000006,V:(250+0j)\n",
      "PVDER-3phBalanced_1:Time:[0.07900000000000006, 0.08000000000000006],Methods:[2],Time steps:[0.00107621]\n",
      "PVDER-3phBalanced_1:Simulation successful for all time steps!\n",
      "t:0.08000000000000006,V:(250+0j)\n",
      "PVDER-3phBalanced_1:Time:[0.08000000000000006, 0.08100000000000006],Methods:[2],Time steps:[0.00046977]\n",
      "PVDER-3phBalanced_1:Simulation successful for all time steps!\n",
      "t:0.08100000000000006,V:(250+0j)\n",
      "PVDER-3phBalanced_1:Time:[0.08100000000000006, 0.08200000000000006],Methods:[2],Time steps:[0.00108042]\n",
      "PVDER-3phBalanced_1:Simulation successful for all time steps!\n",
      "t:0.08200000000000006,V:(250+0j)\n",
      "PVDER-3phBalanced_1:Time:[0.08200000000000006, 0.08300000000000006],Methods:[2],Time steps:[0.00285798]\n",
      "PVDER-3phBalanced_1:Simulation successful for all time steps!\n",
      "t:0.08300000000000006,V:(250+0j)\n",
      "PVDER-3phBalanced_1:Time:[0.08300000000000006, 0.08400000000000006],Methods:[2],Time steps:[0.00233273]\n",
      "PVDER-3phBalanced_1:Simulation successful for all time steps!\n",
      "t:0.08400000000000006,V:(250+0j)\n",
      "PVDER-3phBalanced_1:Time:[0.08400000000000006, 0.08500000000000006],Methods:[2],Time steps:[0.00386155]\n",
      "PVDER-3phBalanced_1:Simulation successful for all time steps!\n",
      "t:0.08500000000000006,V:(250+0j)\n",
      "PVDER-3phBalanced_1:Time:[0.08500000000000006, 0.08600000000000006],Methods:[2],Time steps:[0.00161345]\n",
      "PVDER-3phBalanced_1:Simulation successful for all time steps!\n",
      "t:0.08600000000000006,V:(250+0j)\n",
      "PVDER-3phBalanced_1:Time:[0.08600000000000006, 0.08700000000000006],Methods:[2],Time steps:[0.00053836]\n",
      "PVDER-3phBalanced_1:Simulation successful for all time steps!\n",
      "t:0.08700000000000006,V:(250+0j)\n",
      "PVDER-3phBalanced_1:Time:[0.08700000000000006, 0.08800000000000006],Methods:[2],Time steps:[0.00086806]\n",
      "PVDER-3phBalanced_1:Simulation successful for all time steps!\n",
      "t:0.08800000000000006,V:(250+0j)\n",
      "PVDER-3phBalanced_1:Time:[0.08800000000000006, 0.08900000000000007],Methods:[2],Time steps:[0.00167658]\n",
      "PVDER-3phBalanced_1:Simulation successful for all time steps!\n",
      "t:0.08900000000000007,V:(250+0j)\n",
      "PVDER-3phBalanced_1:Time:[0.08900000000000007, 0.09000000000000007],Methods:[2],Time steps:[0.00068463]\n",
      "PVDER-3phBalanced_1:Simulation successful for all time steps!\n",
      "t:0.09000000000000007,V:(250+0j)\n",
      "PVDER-3phBalanced_1:Time:[0.09000000000000007, 0.09100000000000007],Methods:[2],Time steps:[0.0013247]\n",
      "PVDER-3phBalanced_1:Simulation successful for all time steps!\n",
      "t:0.09100000000000007,V:(250+0j)\n",
      "PVDER-3phBalanced_1:Time:[0.09100000000000007, 0.09200000000000007],Methods:[2],Time steps:[0.0007959]\n",
      "PVDER-3phBalanced_1:Simulation successful for all time steps!\n",
      "t:0.09200000000000007,V:(250+0j)\n",
      "PVDER-3phBalanced_1:Time:[0.09200000000000007, 0.09300000000000007],Methods:[2],Time steps:[0.00082072]\n",
      "PVDER-3phBalanced_1:Simulation successful for all time steps!\n",
      "t:0.09300000000000007,V:(250+0j)\n",
      "PVDER-3phBalanced_1:Time:[0.09300000000000007, 0.09400000000000007],Methods:[2],Time steps:[0.00213645]\n",
      "PVDER-3phBalanced_1:Simulation successful for all time steps!\n",
      "t:0.09400000000000007,V:(250+0j)\n",
      "PVDER-3phBalanced_1:Time:[0.09400000000000007, 0.09500000000000007],Methods:[2],Time steps:[0.00109766]\n",
      "PVDER-3phBalanced_1:Simulation successful for all time steps!\n",
      "t:0.09500000000000007,V:(250+0j)\n",
      "PVDER-3phBalanced_1:Time:[0.09500000000000007, 0.09600000000000007],Methods:[2],Time steps:[0.00082989]\n",
      "PVDER-3phBalanced_1:Simulation successful for all time steps!\n",
      "t:0.09600000000000007,V:(250+0j)\n",
      "PVDER-3phBalanced_1:Time:[0.09600000000000007, 0.09700000000000007],Methods:[2],Time steps:[0.00185199]\n",
      "PVDER-3phBalanced_1:Simulation successful for all time steps!\n",
      "t:0.09700000000000007,V:(250+0j)\n",
      "PVDER-3phBalanced_1:Time:[0.09700000000000007, 0.09800000000000007],Methods:[2],Time steps:[0.00221431]\n",
      "PVDER-3phBalanced_1:Simulation successful for all time steps!\n",
      "t:0.09800000000000007,V:(250+0j)\n",
      "PVDER-3phBalanced_1:Time:[0.09800000000000007, 0.09900000000000007],Methods:[2],Time steps:[0.00043871]\n",
      "PVDER-3phBalanced_1:Simulation successful for all time steps!\n",
      "t:0.09900000000000007,V:(250+0j)\n",
      "PVDER-3phBalanced_1:Time:[0.09900000000000007, 0.10000000000000007],Methods:[2],Time steps:[0.00071878]\n",
      "PVDER-3phBalanced_1:Simulation successful for all time steps!\n",
      "Active power output error:0.6101\n",
      "Reactive power output error:0.0033\n",
      "Inverter filter active power loss error:0.0000\n",
      "Inverter filter reactive power loss error:0.0007\n",
      "\n",
      "______PVDER-3phBalanced_1 - Voltage_____\n",
      "Vdc:550.00\n",
      "Vta:250.24+1.34j V\n",
      "Va:250.00+0.00j V\n",
      "Vtrms:176.95 V\n",
      "Vpccrms:176.78 V\n",
      "\n",
      "______PVDER-3phBalanced_1 - Current_____\n",
      "ia:121.89+0.00j A\n",
      "Irms:86.19 V\n",
      "\n",
      "______PVDER-3phBalanced_1 - Power_____\n",
      "Ppv:45754.9 W\n",
      "S:45754.9+245.5j VA\n",
      "S_PCC:45710.3-0.4j VA\n",
      "\n",
      "______PVDER-3phBalanced_1 - Duty cycle_____\n",
      "ma:0.91+0.00j\n"
     ]
    }
   ],
   "source": [
    "#%%time\n",
    "PV_DER1.VOLT_VAR_ENABLE = False\n",
    "PV_DER1.LVRT_ENABLE = False\n",
    "PV_DER1.LFRT_ENABLE = False\n",
    "sim1.jacFlag = True\n",
    "sim1.DEBUG_SIMULATION = False\n",
    "sim1.DEBUG_VOLTAGES = True\n",
    "sim1.DEBUG_CURRENTS = True\n",
    "sim1.DEBUG_POWER = False\n",
    "sim1.DEBUG_CONTROLLERS  = True\n",
    "sim1.DEBUG_PLL = False\n",
    "sim1.PER_UNIT = True\n",
    "sim1.DEBUG_SOLVER  = True\n",
    "sim1.tStop = 20.0\n",
    "sim1.tInc = 0.001\n",
    "if not LOOP :\n",
    "    sim1.run_simulation()\n",
    "elif LOOP and not STAND_ALONE:\n",
    "    t0 = 0.0\n",
    "    dt = sim1.tInc\n",
    "    n_time_steps = 100\n",
    "    Vat = Va\n",
    "    \n",
    "    for i in range(n_time_steps):\n",
    "        print('t:{},V:{}'.format(t0,Vat))\n",
    "        t_sim= [t0,t0+dt]\n",
    "        sim1.run_simulation(gridVoltagePhaseA=Vat/BaseValues.Vbase, y0=sim1.y0, t=t_sim) \n",
    "        t0 = t_sim[-1]\n",
    "else:\n",
    "    print('Loop only works if PV-DER model is not stand alone!')\n",
    "    \n",
    "PV_DER1.validate_model()\n",
    "PV_DER1.show_PV_DER_states('voltage')\n",
    "PV_DER1.show_PV_DER_states('current')\n",
    "PV_DER1.show_PV_DER_states('power')\n",
    "PV_DER1.show_PV_DER_states('duty cycle')"
   ]
  },
  {
   "cell_type": "markdown",
   "metadata": {
    "colab_type": "text",
    "id": "GniV1HpnS5VT"
   },
   "source": [
    "### Plot results"
   ]
  },
  {
   "cell_type": "code",
   "execution_count": 8,
   "metadata": {
    "colab": {},
    "colab_type": "code",
    "id": "l9jahCc6S5VU",
    "scrolled": false
   },
   "outputs": [
    {
     "name": "stderr",
     "output_type": "stream",
     "text": [
      "c:\\users\\splathottam\\box sync\\github\\pv-der\\pvder\\simulation_utilities.py:315: MatplotlibDeprecationWarning: Adding an axes using the same arguments as a previous axes currently reuses the earlier instance.  In a future version, a new instance will always be created and returned.  Meanwhile, this warning can be suppressed, and the future behavior ensured, by passing a unique label to each axes instance.\n",
      "  ax = plt.axes()\n"
     ]
    },
    {
     "data": {
      "image/png": "[encoded data removed]",
      "text/plain": [
       "<Figure size 576x576 with 1 Axes>"
      ]
     },
     "metadata": {
      "needs_background": "light"
     },
     "output_type": "display_data"
    }
   ],
   "source": [
    "results1.PER_UNIT = False\n",
    "results1.PLOT_TITLE = True\n",
    "results1.font_size = 18\n",
    "results1.plot_DER_simulation(plot_type='active_power_Ppv_Pac_PCC')#"
   ]
  },
  {
   "cell_type": "code",
   "execution_count": 9,
   "metadata": {
    "colab": {},
    "colab_type": "code",
    "id": "7QZf8WDrS5VX"
   },
   "outputs": [
    {
     "data": {
      "image/png": "[encoded data removed]",
      "text/plain": [
       "<Figure size 576x576 with 1 Axes>"
      ]
     },
     "metadata": {
      "needs_background": "light"
     },
     "output_type": "display_data"
    }
   ],
   "source": [
    "results1.plot_DER_simulation(plot_type='reactive_power')#_Q_PCC"
   ]
  },
  {
   "cell_type": "code",
   "execution_count": 10,
   "metadata": {
    "colab": {},
    "colab_type": "code",
    "id": "QJxdwDUDS5Vb",
    "scrolled": false
   },
   "outputs": [
    {
     "data": {
      "image/png": "[encoded data removed]",
      "text/plain": [
       "<Figure size 576x576 with 1 Axes>"
      ]
     },
     "metadata": {
      "needs_background": "light"
     },
     "output_type": "display_data"
    }
   ],
   "source": [
    "results1.plot_DER_simulation(plot_type='voltage_LV') #voltage_Vpcclv"
   ]
  },
  {
   "cell_type": "code",
   "execution_count": null,
   "metadata": {
    "colab": {},
    "colab_type": "code",
    "id": "kQS_2U6lS5Vf"
   },
   "outputs": [],
   "source": [
    "results1.plot_DER_simulation(plot_type='voltage_Vdc')"
   ]
  },
  {
   "cell_type": "code",
   "execution_count": null,
   "metadata": {
    "colab": {},
    "colab_type": "code",
    "id": "xwJnnVFUS5Vh",
    "scrolled": false
   },
   "outputs": [],
   "source": [
    "results1.plot_DER_simulation(plot_type='current')"
   ]
  },
  {
   "cell_type": "code",
   "execution_count": null,
   "metadata": {},
   "outputs": [],
   "source": [
    "results1.plot_DER_simulation(plot_type='duty_cycle')"
   ]
  },
  {
   "cell_type": "code",
   "execution_count": null,
   "metadata": {},
   "outputs": [],
   "source": [
    "results1.plot_DER_simulation(plot_type='frequency')"
   ]
  },
  {
   "cell_type": "code",
   "execution_count": null,
   "metadata": {},
   "outputs": [],
   "source": []
  }
 ],
 "metadata": {
  "colab": {
   "include_colab_link": true,
   "name": "PV-DER_usage_example.ipynb",
   "provenance": [],
   "version": "0.3.2"
  },
  "kernelspec": {
   "display_name": "Python 3",
   "language": "python",
   "name": "python3"
  },
  "language_info": {
   "codemirror_mode": {
    "name": "ipython",
    "version": 3
   },
   "file_extension": ".py",
   "mimetype": "text/x-python",
   "name": "python",
   "nbconvert_exporter": "python",
   "pygments_lexer": "ipython3",
   "version": "3.7.3"
  }
 },
 "nbformat": 4,
 "nbformat_minor": 1
}
